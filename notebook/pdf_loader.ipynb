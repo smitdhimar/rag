{
 "cells": [
  {
   "cell_type": "markdown",
   "id": "791e4209",
   "metadata": {},
   "source": [
    "Load all pdfs with the document and directory load"
   ]
  },
  {
   "cell_type": "code",
   "execution_count": 1,
   "id": "0684d291",
   "metadata": {},
   "outputs": [
    {
     "name": "stderr",
     "output_type": "stream",
     "text": [
      "c:\\Users\\91875\\Documents\\projects\\rag\\.venv\\Lib\\site-packages\\tqdm\\auto.py:21: TqdmWarning: IProgress not found. Please update jupyter and ipywidgets. See https://ipywidgets.readthedocs.io/en/stable/user_install.html\n",
      "  from .autonotebook import tqdm as notebook_tqdm\n"
     ]
    },
    {
     "name": "stdout",
     "output_type": "stream",
     "text": [
      "19\n"
     ]
    }
   ],
   "source": [
    "import os\n",
    "from langchain_community.document_loaders import PyMuPDFLoader, PyPDFLoader , DirectoryLoader\n",
    "\n",
    "def load_directory(directory_path:str):\n",
    "    dir_loader = DirectoryLoader(\n",
    "        directory_path,\n",
    "        glob=\"**/*.pdf\",\n",
    "        loader_cls= PyPDFLoader,\n",
    "        show_progress=False\n",
    "    )\n",
    "    directory_documents = dir_loader.load()\n",
    "    return directory_documents\n",
    "\n",
    "directory_documents = load_directory(\"../data/pdf\")\n",
    "print(len(directory_documents))\n"
   ]
  },
  {
   "cell_type": "markdown",
   "id": "837ea5fa",
   "metadata": {},
   "source": [
    "Add splitting logic"
   ]
  },
  {
   "cell_type": "code",
   "execution_count": 2,
   "id": "9f88bc9b",
   "metadata": {},
   "outputs": [
    {
     "name": "stdout",
     "output_type": "stream",
     "text": [
      "Split 19 documents into 54 chunks\n"
     ]
    },
    {
     "data": {
      "text/plain": [
       "Document(metadata={'producer': 'iText 2.1.7 by 1T3XT; modified using iText® 5.2.1 ©2000-2012 1T3XT BVBA', 'creator': 'JasperReports Library version 5.6.0', 'creationdate': '2025-09-01T15:59:15+05:30', 'moddate': '2025-09-01T15:59:15+05:30', 'source': '..\\\\data\\\\pdf\\\\Policy_schedule_doc - 2025-09-01T155919.522.pdf', 'total_pages': 9, 'page': 0, 'page_label': '1'}, page_content=\"Welcome to Bajaj Allianz Family\\n BARDOLI(VSO)-Shop Nos.25 To 28, Mezzanine Floor, , Megh Mayur Plazaratan\\nBaug, , Surat Dumas Roadsurat, Surat, Gujarat, INDIA, 395007, 9999999999\\nPolicy issuing office and correspondence address for communication by\\npolicyholder for claim, service request, notice, summons, etc.:\\n   Insured Name Pragneshkumar Rajubhai Nayka  Policy Number  12-1805-0007923327-00\\nName: Pragneshkumar Rajubhai Nayka\\nAddress:\\nLine 1: Parsigali Faliyu , Boriya T Mahuva D Surat\\nCity: Surat, State: Gujarat\\nPostcode: 395620\\nCustomer ID: PI35470101\\nLine 2:   ,\\nDear Pragneshkumar Rajubhai Nayka,\\nWe thank you for choosing Bajaj Allianz for your Insurance needs. We are one of India's leading general insurance companies with iAAA rating\\nfrom ICRA for the last ten consecutive years indicating the company's high claims paying ability and fundamentally strong position in the industry.\")"
      ]
     },
     "execution_count": 2,
     "metadata": {},
     "output_type": "execute_result"
    }
   ],
   "source": [
    "from langchain.text_splitter import RecursiveCharacterTextSplitter\n",
    "from pathlib import Path\n",
    "\n",
    "def split_documents(directory_documents, chunk_size = 1000 , chunk_overlap = 200):\n",
    "    text_splitter = RecursiveCharacterTextSplitter(\n",
    "        chunk_size = chunk_size,\n",
    "        chunk_overlap = chunk_overlap,\n",
    "        length_function = len,\n",
    "        separators= [\"\\n\\n\", \"\\n\"]\n",
    "    )\n",
    "\n",
    "    split_docs = text_splitter.split_documents(directory_documents)\n",
    "    print(f\"Split {len(directory_documents)} documents into {len(split_docs)} chunks\")\n",
    "\n",
    "    # if(split_docs):\n",
    "    #     print(\"logging...\")\n",
    "    #     print(split_docs[0].metadata)\n",
    "    #     print(split_docs[0].page_content[:100])\n",
    "    return split_docs\n",
    "\n",
    "\n",
    "chunks = split_documents(directory_documents, 1000, 200)\n",
    "chunks[0]\n"
   ]
  },
  {
   "cell_type": "markdown",
   "id": "d6b8f432",
   "metadata": {},
   "source": [
    "chunking done. "
   ]
  },
  {
   "cell_type": "markdown",
   "id": "6acf36e1",
   "metadata": {},
   "source": [
    "embeddings \n",
    "convert chunks to embeddings"
   ]
  },
  {
   "cell_type": "code",
   "execution_count": 3,
   "id": "97cfda34",
   "metadata": {},
   "outputs": [],
   "source": [
    "# imports\n",
    "import numpy as np \n",
    "from sentence_transformers import SentenceTransformer\n",
    "import chromadb\n",
    "import uuid\n",
    "from typing import List, Dict, Any\n"
   ]
  },
  {
   "cell_type": "code",
   "execution_count": 4,
   "id": "26a3210f",
   "metadata": {},
   "outputs": [],
   "source": [
    "# create embeddings \n",
    "# class structure\n",
    "class EmbeddingManager:\n",
    "    def __init__(self, model_name: str= \"all-MiniLM-L6-v2\"):\n",
    "        self.model_name = model_name\n",
    "        self.model = None\n",
    "        self._load_model()\n",
    "\n",
    "    def _load_model(self):\n",
    "        try:\n",
    "            print(f\"loading embedding model: {self.model_name}\")\n",
    "            self.model = SentenceTransformer(self.model_name)\n",
    "            print(f\"Model loaded successfully, dimension of embeddings: {self.model.get_sentence_embedding_dimension()}\")\n",
    "        except Exception as e:\n",
    "            print(f\"Error loading the model {self.model_name}: {e}\");\n",
    "            raise\n",
    "    def generate_embeddings(self, texts: List[str])-> np.ndarray:\n",
    "        if not self.model:\n",
    "            raise ValueError(\"Model not loaded yet\")\n",
    "        print(\"Generating embeddings\")\n",
    "        embeddings = self.model.encode(texts, show_progress_bar= True)\n",
    "        print(f\"Generated embeddings with shape: {embeddings.shape}\")\n",
    "        return embeddings"
   ]
  },
  {
   "cell_type": "code",
   "execution_count": 5,
   "id": "e0bace48",
   "metadata": {},
   "outputs": [],
   "source": [
    "# Vector Store\n",
    "class VectorStore:\n",
    "    # init method ( self , name of the collection in which the vectors are to be stored, persistent location of directory where the vector store is intended to be stored)\n",
    "    def __init__(self, collection_name: str = 'vectors-store' , persistent_directory: str = '../vector_store'):\n",
    "        self.collection_name = collection_name\n",
    "        self.persistent_directory = persistent_directory\n",
    "        self.client = None\n",
    "        self.collection = None\n",
    "        self._initialize_store()\n",
    "\n",
    "    def _initialize_store(self):\n",
    "        try:\n",
    "            os.makedirs(self.persistent_directory, exist_ok=True)\n",
    "            self.client = chromadb.PersistentClient(path = self.persistent_directory)\n",
    "\n",
    "            # get or create collection\n",
    "            self.collection = self.client.get_or_create_collection(\n",
    "                name = self.collection_name,\n",
    "                metadata={\n",
    "                    \"description\": \"PDF document embeddings for RAG\"\n",
    "                }\n",
    "            )\n",
    "            print(dir(self.client))\n",
    "            print(\"Vector store initialized\")\n",
    "            print(f\"existing documents in collection: {self.collection.count()}\")\n",
    "\n",
    "        except Exception as e:\n",
    "            print(f\"Error initializing the vector store: {e}\")\n",
    "            raise\n",
    "\n",
    "    def add_documents(self, documents: List[any], embeddings: np.ndarray):\n",
    "        # data for chroma db \n",
    "        ids = []\n",
    "        metadatas = []\n",
    "        document_text = []\n",
    "        embedding_list = []\n",
    "        print(dir(zip(documents, embeddings)))\n",
    "        for i, (doc, embedding) in enumerate(zip(documents, embeddings)):\n",
    "            doc_id = f\"doc_{uuid.uuid4().hex[:8]}_{i}\"\n",
    "            ids.append(doc_id)\n",
    "\n",
    "            metadata = dict(doc.metadata)\n",
    "            metadata['doc_index'] = i \n",
    "            metadata[\"content_length\"] = len(doc.page_content)\n",
    "\n",
    "            metadatas.append(metadata)\n",
    "\n",
    "            document_text.append(doc.page_content)\n",
    "            embedding_list.append(embedding.tolist())\n",
    "            \n",
    "        # add to collection \n",
    "\n",
    "        print(\"ids: \", ids)\n",
    "        print(\"embeddings: \", embeddings)\n",
    "        print(\"metadatas: \", metadatas)\n",
    "        print(\"document_text: \", document_text)\n",
    "        try:\n",
    "            self.collection.add(\n",
    "                ids= ids,\n",
    "                embeddings= embedding_list,\n",
    "                metadatas= metadatas,\n",
    "                documents= document_text\n",
    "            )\n",
    "            print(\"documents added\")\n",
    "        except Exception as e:\n",
    "            print(\"There some error \",e )\n",
    "            raise\n",
    "\n"
   ]
  },
  {
   "cell_type": "code",
   "execution_count": 6,
   "id": "2364ad92",
   "metadata": {},
   "outputs": [
    {
     "name": "stdout",
     "output_type": "stream",
     "text": [
      "loading embedding model: all-MiniLM-L6-v2\n",
      "Model loaded successfully, dimension of embeddings: 384\n",
      "Generating embeddings\n"
     ]
    },
    {
     "name": "stderr",
     "output_type": "stream",
     "text": [
      "Batches: 100%|██████████| 2/2 [00:03<00:00,  1.89s/it]"
     ]
    },
    {
     "name": "stdout",
     "output_type": "stream",
     "text": [
      "Generated embeddings with shape: (54, 384)\n"
     ]
    },
    {
     "name": "stderr",
     "output_type": "stream",
     "text": [
      "\n"
     ]
    }
   ],
   "source": [
    "# get text from chunks \n",
    "texts = [ doc.page_content for doc in chunks]\n",
    "embedding_manager = EmbeddingManager()\n",
    "generated_embeddings = embedding_manager.generate_embeddings(texts)\n",
    "\n"
   ]
  },
  {
   "cell_type": "code",
   "execution_count": 7,
   "id": "fa1c85ed",
   "metadata": {},
   "outputs": [
    {
     "name": "stdout",
     "output_type": "stream",
     "text": [
      "['__abstractmethods__', '__annotations__', '__class__', '__delattr__', '__dict__', '__dir__', '__doc__', '__eq__', '__format__', '__ge__', '__getattribute__', '__getstate__', '__gt__', '__hash__', '__init__', '__init_subclass__', '__le__', '__lt__', '__module__', '__ne__', '__new__', '__reduce__', '__reduce_ex__', '__repr__', '__setattr__', '__sizeof__', '__slots__', '__str__', '__subclasshook__', '__weakref__', '_abc_impl', '_add', '_admin_client', '_count', '_create_system_if_not_exists', '_delete', '_get', '_get_identifier_from_settings', '_identifier', '_identifier_to_system', '_modify', '_peek', '_populate_data_from_system', '_query', '_server', '_submit_client_start_event', '_system', '_update', '_upsert', '_validate_tenant_database', 'clear_system_cache', 'count_collections', 'create_collection', 'database', 'delete_collection', 'from_system', 'get_collection', 'get_max_batch_size', 'get_or_create_collection', 'get_settings', 'get_user_identity', 'get_version', 'heartbeat', 'list_collections', 'reset', 'set_database', 'set_tenant', 'tenant']\n",
      "Vector store initialized\n",
      "existing documents in collection: 0\n"
     ]
    }
   ],
   "source": [
    "\n",
    "# store in the vector database\n",
    "\n",
    "vector_store = VectorStore()\n"
   ]
  },
  {
   "cell_type": "code",
   "execution_count": 8,
   "id": "f1c3afa0",
   "metadata": {},
   "outputs": [
    {
     "name": "stdout",
     "output_type": "stream",
     "text": [
      "['__class__', '__delattr__', '__dir__', '__doc__', '__eq__', '__format__', '__ge__', '__getattribute__', '__getstate__', '__gt__', '__hash__', '__init__', '__init_subclass__', '__iter__', '__le__', '__lt__', '__ne__', '__new__', '__next__', '__reduce__', '__reduce_ex__', '__repr__', '__setattr__', '__setstate__', '__sizeof__', '__str__', '__subclasshook__']\n",
      "ids:  ['doc_676ec192_0', 'doc_bb81f6d1_1', 'doc_7a8e8634_2', 'doc_d755d8d3_3', 'doc_58744c8b_4', 'doc_2905f12d_5', 'doc_c745e761_6', 'doc_a6dde8a0_7', 'doc_5425c38e_8', 'doc_28d9b292_9', 'doc_4a66c2e1_10', 'doc_e96b56cb_11', 'doc_bdd4b7a3_12', 'doc_40fa808b_13', 'doc_7cfa0e2a_14', 'doc_1ff328fa_15', 'doc_7b6bb39a_16', 'doc_6e433317_17', 'doc_d9aad036_18', 'doc_5240e4d1_19', 'doc_d3673cc6_20', 'doc_7d88cc8d_21', 'doc_2a881790_22', 'doc_8909935d_23', 'doc_3867d7d2_24', 'doc_0a81fad4_25', 'doc_605d48ce_26', 'doc_ac9afade_27', 'doc_4e718367_28', 'doc_4b00d399_29', 'doc_22fe4854_30', 'doc_d08dc56d_31', 'doc_dad6b3c1_32', 'doc_f6c6d829_33', 'doc_b40d5321_34', 'doc_f50607fa_35', 'doc_7da69cfc_36', 'doc_aa7b5bbe_37', 'doc_5bec02f7_38', 'doc_20096af2_39', 'doc_77bb114e_40', 'doc_36e68953_41', 'doc_95b416bf_42', 'doc_4665e81d_43', 'doc_e2ce046a_44', 'doc_cf86654d_45', 'doc_da37760d_46', 'doc_b9b422de_47', 'doc_36b00b6d_48', 'doc_46af6d0f_49', 'doc_dea68658_50', 'doc_b0d7e9f0_51', 'doc_6f883203_52', 'doc_0b0252f5_53']\n",
      "embeddings:  [[-0.09026107  0.06061224 -0.05206175 ... -0.08092664 -0.01589833\n",
      "  -0.0248198 ]\n",
      " [-0.06983288  0.09601188  0.02630192 ... -0.09619559 -0.04459568\n",
      "   0.015444  ]\n",
      " [-0.05151233  0.06516309 -0.01083608 ... -0.09362277 -0.04531888\n",
      "  -0.03139704]\n",
      " ...\n",
      " [-0.03674391  0.03820017 -0.02471056 ... -0.12148247 -0.06998327\n",
      "  -0.00773257]\n",
      " [-0.09843612  0.03491855  0.02964328 ...  0.03686932 -0.00373726\n",
      "   0.03732446]\n",
      " [-0.07967701 -0.00788015  0.02188832 ... -0.03049861 -0.0578643\n",
      "   0.03368465]]\n",
      "metadatas:  [{'producer': 'iText 2.1.7 by 1T3XT; modified using iText® 5.2.1 ©2000-2012 1T3XT BVBA', 'creator': 'JasperReports Library version 5.6.0', 'creationdate': '2025-09-01T15:59:15+05:30', 'moddate': '2025-09-01T15:59:15+05:30', 'source': '..\\\\data\\\\pdf\\\\Policy_schedule_doc - 2025-09-01T155919.522.pdf', 'total_pages': 9, 'page': 0, 'page_label': '1', 'doc_index': 0, 'content_length': 895}, {'producer': 'iText 2.1.7 by 1T3XT; modified using iText® 5.2.1 ©2000-2012 1T3XT BVBA', 'creator': 'JasperReports Library version 5.6.0', 'creationdate': '2025-09-01T15:59:15+05:30', 'moddate': '2025-09-01T15:59:15+05:30', 'source': '..\\\\data\\\\pdf\\\\Policy_schedule_doc - 2025-09-01T155919.522.pdf', 'total_pages': 9, 'page': 0, 'page_label': '1', 'doc_index': 1, 'content_length': 964}, {'producer': 'iText 2.1.7 by 1T3XT; modified using iText® 5.2.1 ©2000-2012 1T3XT BVBA', 'creator': 'JasperReports Library version 5.6.0', 'creationdate': '2025-09-01T15:59:15+05:30', 'moddate': '2025-09-01T15:59:15+05:30', 'source': '..\\\\data\\\\pdf\\\\Policy_schedule_doc - 2025-09-01T155919.522.pdf', 'total_pages': 9, 'page': 0, 'page_label': '1', 'doc_index': 2, 'content_length': 866}, {'producer': 'iText 2.1.7 by 1T3XT; modified using iText® 5.2.1 ©2000-2012 1T3XT BVBA', 'creator': 'JasperReports Library version 5.6.0', 'creationdate': '2025-09-01T15:59:15+05:30', 'moddate': '2025-09-01T15:59:15+05:30', 'source': '..\\\\data\\\\pdf\\\\Policy_schedule_doc - 2025-09-01T155919.522.pdf', 'total_pages': 9, 'page': 1, 'page_label': '2', 'doc_index': 3, 'content_length': 927}, {'producer': 'iText 2.1.7 by 1T3XT; modified using iText® 5.2.1 ©2000-2012 1T3XT BVBA', 'creator': 'JasperReports Library version 5.6.0', 'creationdate': '2025-09-01T15:59:15+05:30', 'moddate': '2025-09-01T15:59:15+05:30', 'source': '..\\\\data\\\\pdf\\\\Policy_schedule_doc - 2025-09-01T155919.522.pdf', 'total_pages': 9, 'page': 1, 'page_label': '2', 'doc_index': 4, 'content_length': 997}, {'producer': 'iText 2.1.7 by 1T3XT; modified using iText® 5.2.1 ©2000-2012 1T3XT BVBA', 'creator': 'JasperReports Library version 5.6.0', 'creationdate': '2025-09-01T15:59:15+05:30', 'moddate': '2025-09-01T15:59:15+05:30', 'source': '..\\\\data\\\\pdf\\\\Policy_schedule_doc - 2025-09-01T155919.522.pdf', 'total_pages': 9, 'page': 1, 'page_label': '2', 'doc_index': 5, 'content_length': 965}, {'producer': 'iText 2.1.7 by 1T3XT; modified using iText® 5.2.1 ©2000-2012 1T3XT BVBA', 'creator': 'JasperReports Library version 5.6.0', 'creationdate': '2025-09-01T15:59:15+05:30', 'moddate': '2025-09-01T15:59:15+05:30', 'source': '..\\\\data\\\\pdf\\\\Policy_schedule_doc - 2025-09-01T155919.522.pdf', 'total_pages': 9, 'page': 1, 'page_label': '2', 'doc_index': 6, 'content_length': 574}, {'producer': 'iText 2.1.7 by 1T3XT; modified using iText® 5.2.1 ©2000-2012 1T3XT BVBA', 'creator': 'JasperReports Library version 5.6.0', 'creationdate': '2025-09-01T15:59:15+05:30', 'moddate': '2025-09-01T15:59:15+05:30', 'source': '..\\\\data\\\\pdf\\\\Policy_schedule_doc - 2025-09-01T155919.522.pdf', 'total_pages': 9, 'page': 2, 'page_label': '3', 'doc_index': 7, 'content_length': 879}, {'producer': 'iText 2.1.7 by 1T3XT; modified using iText® 5.2.1 ©2000-2012 1T3XT BVBA', 'creator': 'JasperReports Library version 5.6.0', 'creationdate': '2025-09-01T15:59:15+05:30', 'moddate': '2025-09-01T15:59:15+05:30', 'source': '..\\\\data\\\\pdf\\\\Policy_schedule_doc - 2025-09-01T155919.522.pdf', 'total_pages': 9, 'page': 2, 'page_label': '3', 'doc_index': 8, 'content_length': 971}, {'producer': 'iText 2.1.7 by 1T3XT; modified using iText® 5.2.1 ©2000-2012 1T3XT BVBA', 'creator': 'JasperReports Library version 5.6.0', 'creationdate': '2025-09-01T15:59:15+05:30', 'moddate': '2025-09-01T15:59:15+05:30', 'source': '..\\\\data\\\\pdf\\\\Policy_schedule_doc - 2025-09-01T155919.522.pdf', 'total_pages': 9, 'page': 2, 'page_label': '3', 'doc_index': 9, 'content_length': 894}, {'producer': 'iText 2.1.7 by 1T3XT; modified using iText® 5.2.1 ©2000-2012 1T3XT BVBA', 'creator': 'JasperReports Library version 5.6.0', 'creationdate': '2025-09-01T15:59:15+05:30', 'moddate': '2025-09-01T15:59:15+05:30', 'source': '..\\\\data\\\\pdf\\\\Policy_schedule_doc - 2025-09-01T155919.522.pdf', 'total_pages': 9, 'page': 2, 'page_label': '3', 'doc_index': 10, 'content_length': 540}, {'producer': 'iText 2.1.7 by 1T3XT; modified using iText® 5.2.1 ©2000-2012 1T3XT BVBA', 'creator': 'JasperReports Library version 5.6.0', 'creationdate': '2025-09-01T15:59:15+05:30', 'moddate': '2025-09-01T15:59:15+05:30', 'source': '..\\\\data\\\\pdf\\\\Policy_schedule_doc - 2025-09-01T155919.522.pdf', 'total_pages': 9, 'page': 3, 'page_label': '4', 'doc_index': 11, 'content_length': 938}, {'producer': 'iText 2.1.7 by 1T3XT; modified using iText® 5.2.1 ©2000-2012 1T3XT BVBA', 'creator': 'JasperReports Library version 5.6.0', 'creationdate': '2025-09-01T15:59:15+05:30', 'moddate': '2025-09-01T15:59:15+05:30', 'source': '..\\\\data\\\\pdf\\\\Policy_schedule_doc - 2025-09-01T155919.522.pdf', 'total_pages': 9, 'page': 3, 'page_label': '4', 'doc_index': 12, 'content_length': 994}, {'producer': 'iText 2.1.7 by 1T3XT; modified using iText® 5.2.1 ©2000-2012 1T3XT BVBA', 'creator': 'JasperReports Library version 5.6.0', 'creationdate': '2025-09-01T15:59:15+05:30', 'moddate': '2025-09-01T15:59:15+05:30', 'source': '..\\\\data\\\\pdf\\\\Policy_schedule_doc - 2025-09-01T155919.522.pdf', 'total_pages': 9, 'page': 3, 'page_label': '4', 'doc_index': 13, 'content_length': 636}, {'producer': 'iText 2.1.7 by 1T3XT; modified using iText® 5.2.1 ©2000-2012 1T3XT BVBA', 'creator': 'JasperReports Library version 5.6.0', 'creationdate': '2025-09-01T15:59:15+05:30', 'moddate': '2025-09-01T15:59:15+05:30', 'source': '..\\\\data\\\\pdf\\\\Policy_schedule_doc - 2025-09-01T155919.522.pdf', 'total_pages': 9, 'page': 4, 'page_label': '5', 'doc_index': 14, 'content_length': 924}, {'producer': 'iText 2.1.7 by 1T3XT; modified using iText® 5.2.1 ©2000-2012 1T3XT BVBA', 'creator': 'JasperReports Library version 5.6.0', 'creationdate': '2025-09-01T15:59:15+05:30', 'moddate': '2025-09-01T15:59:15+05:30', 'source': '..\\\\data\\\\pdf\\\\Policy_schedule_doc - 2025-09-01T155919.522.pdf', 'total_pages': 9, 'page': 4, 'page_label': '5', 'doc_index': 15, 'content_length': 989}, {'producer': 'iText 2.1.7 by 1T3XT; modified using iText® 5.2.1 ©2000-2012 1T3XT BVBA', 'creator': 'JasperReports Library version 5.6.0', 'creationdate': '2025-09-01T15:59:15+05:30', 'moddate': '2025-09-01T15:59:15+05:30', 'source': '..\\\\data\\\\pdf\\\\Policy_schedule_doc - 2025-09-01T155919.522.pdf', 'total_pages': 9, 'page': 4, 'page_label': '5', 'doc_index': 16, 'content_length': 908}, {'producer': 'iText 2.1.7 by 1T3XT; modified using iText® 5.2.1 ©2000-2012 1T3XT BVBA', 'creator': 'JasperReports Library version 5.6.0', 'creationdate': '2025-09-01T15:59:15+05:30', 'moddate': '2025-09-01T15:59:15+05:30', 'source': '..\\\\data\\\\pdf\\\\Policy_schedule_doc - 2025-09-01T155919.522.pdf', 'total_pages': 9, 'page': 5, 'page_label': '6', 'doc_index': 17, 'content_length': 989}, {'producer': 'iText 2.1.7 by 1T3XT; modified using iText® 5.2.1 ©2000-2012 1T3XT BVBA', 'creator': 'JasperReports Library version 5.6.0', 'creationdate': '2025-09-01T15:59:15+05:30', 'moddate': '2025-09-01T15:59:15+05:30', 'source': '..\\\\data\\\\pdf\\\\Policy_schedule_doc - 2025-09-01T155919.522.pdf', 'total_pages': 9, 'page': 5, 'page_label': '6', 'doc_index': 18, 'content_length': 867}, {'producer': 'iText 2.1.7 by 1T3XT; modified using iText® 5.2.1 ©2000-2012 1T3XT BVBA', 'creator': 'JasperReports Library version 5.6.0', 'creationdate': '2025-09-01T15:59:15+05:30', 'moddate': '2025-09-01T15:59:15+05:30', 'source': '..\\\\data\\\\pdf\\\\Policy_schedule_doc - 2025-09-01T155919.522.pdf', 'total_pages': 9, 'page': 5, 'page_label': '6', 'doc_index': 19, 'content_length': 492}, {'producer': 'iText 2.1.7 by 1T3XT; modified using iText® 5.2.1 ©2000-2012 1T3XT BVBA', 'creator': 'JasperReports Library version 5.6.0', 'creationdate': '2025-09-01T15:59:15+05:30', 'moddate': '2025-09-01T15:59:15+05:30', 'source': '..\\\\data\\\\pdf\\\\Policy_schedule_doc - 2025-09-01T155919.522.pdf', 'total_pages': 9, 'page': 6, 'page_label': '7', 'doc_index': 20, 'content_length': 995}, {'producer': 'iText 2.1.7 by 1T3XT; modified using iText® 5.2.1 ©2000-2012 1T3XT BVBA', 'creator': 'JasperReports Library version 5.6.0', 'creationdate': '2025-09-01T15:59:15+05:30', 'moddate': '2025-09-01T15:59:15+05:30', 'source': '..\\\\data\\\\pdf\\\\Policy_schedule_doc - 2025-09-01T155919.522.pdf', 'total_pages': 9, 'page': 6, 'page_label': '7', 'doc_index': 21, 'content_length': 679}, {'producer': 'iText 2.1.7 by 1T3XT; modified using iText® 5.2.1 ©2000-2012 1T3XT BVBA', 'creator': 'JasperReports Library version 5.6.0', 'creationdate': '2025-09-01T15:59:15+05:30', 'moddate': '2025-09-01T15:59:15+05:30', 'source': '..\\\\data\\\\pdf\\\\Policy_schedule_doc - 2025-09-01T155919.522.pdf', 'total_pages': 9, 'page': 7, 'page_label': '8', 'doc_index': 22, 'content_length': 986}, {'producer': 'iText 2.1.7 by 1T3XT; modified using iText® 5.2.1 ©2000-2012 1T3XT BVBA', 'creator': 'JasperReports Library version 5.6.0', 'creationdate': '2025-09-01T15:59:15+05:30', 'moddate': '2025-09-01T15:59:15+05:30', 'source': '..\\\\data\\\\pdf\\\\Policy_schedule_doc - 2025-09-01T155919.522.pdf', 'total_pages': 9, 'page': 7, 'page_label': '8', 'doc_index': 23, 'content_length': 992}, {'producer': 'iText 2.1.7 by 1T3XT; modified using iText® 5.2.1 ©2000-2012 1T3XT BVBA', 'creator': 'JasperReports Library version 5.6.0', 'creationdate': '2025-09-01T15:59:15+05:30', 'moddate': '2025-09-01T15:59:15+05:30', 'source': '..\\\\data\\\\pdf\\\\Policy_schedule_doc - 2025-09-01T155919.522.pdf', 'total_pages': 9, 'page': 7, 'page_label': '8', 'doc_index': 24, 'content_length': 333}, {'producer': 'iText 2.1.7 by 1T3XT; modified using iText® 5.2.1 ©2000-2012 1T3XT BVBA', 'creator': 'JasperReports Library version 5.6.0', 'creationdate': '2025-09-01T15:59:15+05:30', 'moddate': '2025-09-01T15:59:15+05:30', 'source': '..\\\\data\\\\pdf\\\\Policy_schedule_doc - 2025-09-01T155919.522.pdf', 'total_pages': 9, 'page': 8, 'page_label': '9', 'doc_index': 25, 'content_length': 379}, {'producer': 'iText 2.1.7 by 1T3XT; modified using iText® 5.2.1 ©2000-2012 1T3XT BVBA', 'creator': 'JasperReports Library version 5.6.0', 'creationdate': '2025-09-17T18:23:33+05:30', 'moddate': '2025-09-17T18:23:33+05:30', 'source': '..\\\\data\\\\pdf\\\\Policy_schedule_doc - 2025-09-17T182353.824.pdf', 'total_pages': 9, 'page': 0, 'page_label': '1', 'doc_index': 26, 'content_length': 895}, {'producer': 'iText 2.1.7 by 1T3XT; modified using iText® 5.2.1 ©2000-2012 1T3XT BVBA', 'creator': 'JasperReports Library version 5.6.0', 'creationdate': '2025-09-17T18:23:33+05:30', 'moddate': '2025-09-17T18:23:33+05:30', 'source': '..\\\\data\\\\pdf\\\\Policy_schedule_doc - 2025-09-17T182353.824.pdf', 'total_pages': 9, 'page': 0, 'page_label': '1', 'doc_index': 27, 'content_length': 964}, {'producer': 'iText 2.1.7 by 1T3XT; modified using iText® 5.2.1 ©2000-2012 1T3XT BVBA', 'creator': 'JasperReports Library version 5.6.0', 'creationdate': '2025-09-17T18:23:33+05:30', 'moddate': '2025-09-17T18:23:33+05:30', 'source': '..\\\\data\\\\pdf\\\\Policy_schedule_doc - 2025-09-17T182353.824.pdf', 'total_pages': 9, 'page': 0, 'page_label': '1', 'doc_index': 28, 'content_length': 866}, {'producer': 'iText 2.1.7 by 1T3XT; modified using iText® 5.2.1 ©2000-2012 1T3XT BVBA', 'creator': 'JasperReports Library version 5.6.0', 'creationdate': '2025-09-17T18:23:33+05:30', 'moddate': '2025-09-17T18:23:33+05:30', 'source': '..\\\\data\\\\pdf\\\\Policy_schedule_doc - 2025-09-17T182353.824.pdf', 'total_pages': 9, 'page': 1, 'page_label': '2', 'doc_index': 29, 'content_length': 922}, {'producer': 'iText 2.1.7 by 1T3XT; modified using iText® 5.2.1 ©2000-2012 1T3XT BVBA', 'creator': 'JasperReports Library version 5.6.0', 'creationdate': '2025-09-17T18:23:33+05:30', 'moddate': '2025-09-17T18:23:33+05:30', 'source': '..\\\\data\\\\pdf\\\\Policy_schedule_doc - 2025-09-17T182353.824.pdf', 'total_pages': 9, 'page': 1, 'page_label': '2', 'doc_index': 30, 'content_length': 974}, {'producer': 'iText 2.1.7 by 1T3XT; modified using iText® 5.2.1 ©2000-2012 1T3XT BVBA', 'creator': 'JasperReports Library version 5.6.0', 'creationdate': '2025-09-17T18:23:33+05:30', 'moddate': '2025-09-17T18:23:33+05:30', 'source': '..\\\\data\\\\pdf\\\\Policy_schedule_doc - 2025-09-17T182353.824.pdf', 'total_pages': 9, 'page': 1, 'page_label': '2', 'doc_index': 31, 'content_length': 956}, {'producer': 'iText 2.1.7 by 1T3XT; modified using iText® 5.2.1 ©2000-2012 1T3XT BVBA', 'creator': 'JasperReports Library version 5.6.0', 'creationdate': '2025-09-17T18:23:33+05:30', 'moddate': '2025-09-17T18:23:33+05:30', 'source': '..\\\\data\\\\pdf\\\\Policy_schedule_doc - 2025-09-17T182353.824.pdf', 'total_pages': 9, 'page': 1, 'page_label': '2', 'doc_index': 32, 'content_length': 695}, {'producer': 'iText 2.1.7 by 1T3XT; modified using iText® 5.2.1 ©2000-2012 1T3XT BVBA', 'creator': 'JasperReports Library version 5.6.0', 'creationdate': '2025-09-17T18:23:33+05:30', 'moddate': '2025-09-17T18:23:33+05:30', 'source': '..\\\\data\\\\pdf\\\\Policy_schedule_doc - 2025-09-17T182353.824.pdf', 'total_pages': 9, 'page': 2, 'page_label': '3', 'doc_index': 33, 'content_length': 879}, {'producer': 'iText 2.1.7 by 1T3XT; modified using iText® 5.2.1 ©2000-2012 1T3XT BVBA', 'creator': 'JasperReports Library version 5.6.0', 'creationdate': '2025-09-17T18:23:33+05:30', 'moddate': '2025-09-17T18:23:33+05:30', 'source': '..\\\\data\\\\pdf\\\\Policy_schedule_doc - 2025-09-17T182353.824.pdf', 'total_pages': 9, 'page': 2, 'page_label': '3', 'doc_index': 34, 'content_length': 971}, {'producer': 'iText 2.1.7 by 1T3XT; modified using iText® 5.2.1 ©2000-2012 1T3XT BVBA', 'creator': 'JasperReports Library version 5.6.0', 'creationdate': '2025-09-17T18:23:33+05:30', 'moddate': '2025-09-17T18:23:33+05:30', 'source': '..\\\\data\\\\pdf\\\\Policy_schedule_doc - 2025-09-17T182353.824.pdf', 'total_pages': 9, 'page': 2, 'page_label': '3', 'doc_index': 35, 'content_length': 894}, {'producer': 'iText 2.1.7 by 1T3XT; modified using iText® 5.2.1 ©2000-2012 1T3XT BVBA', 'creator': 'JasperReports Library version 5.6.0', 'creationdate': '2025-09-17T18:23:33+05:30', 'moddate': '2025-09-17T18:23:33+05:30', 'source': '..\\\\data\\\\pdf\\\\Policy_schedule_doc - 2025-09-17T182353.824.pdf', 'total_pages': 9, 'page': 2, 'page_label': '3', 'doc_index': 36, 'content_length': 540}, {'producer': 'iText 2.1.7 by 1T3XT; modified using iText® 5.2.1 ©2000-2012 1T3XT BVBA', 'creator': 'JasperReports Library version 5.6.0', 'creationdate': '2025-09-17T18:23:33+05:30', 'moddate': '2025-09-17T18:23:33+05:30', 'source': '..\\\\data\\\\pdf\\\\Policy_schedule_doc - 2025-09-17T182353.824.pdf', 'total_pages': 9, 'page': 3, 'page_label': '4', 'doc_index': 37, 'content_length': 999}, {'producer': 'iText 2.1.7 by 1T3XT; modified using iText® 5.2.1 ©2000-2012 1T3XT BVBA', 'creator': 'JasperReports Library version 5.6.0', 'creationdate': '2025-09-17T18:23:33+05:30', 'moddate': '2025-09-17T18:23:33+05:30', 'source': '..\\\\data\\\\pdf\\\\Policy_schedule_doc - 2025-09-17T182353.824.pdf', 'total_pages': 9, 'page': 3, 'page_label': '4', 'doc_index': 38, 'content_length': 989}, {'producer': 'iText 2.1.7 by 1T3XT; modified using iText® 5.2.1 ©2000-2012 1T3XT BVBA', 'creator': 'JasperReports Library version 5.6.0', 'creationdate': '2025-09-17T18:23:33+05:30', 'moddate': '2025-09-17T18:23:33+05:30', 'source': '..\\\\data\\\\pdf\\\\Policy_schedule_doc - 2025-09-17T182353.824.pdf', 'total_pages': 9, 'page': 3, 'page_label': '4', 'doc_index': 39, 'content_length': 904}, {'producer': 'iText 2.1.7 by 1T3XT; modified using iText® 5.2.1 ©2000-2012 1T3XT BVBA', 'creator': 'JasperReports Library version 5.6.0', 'creationdate': '2025-09-17T18:23:33+05:30', 'moddate': '2025-09-17T18:23:33+05:30', 'source': '..\\\\data\\\\pdf\\\\Policy_schedule_doc - 2025-09-17T182353.824.pdf', 'total_pages': 9, 'page': 4, 'page_label': '5', 'doc_index': 40, 'content_length': 992}, {'producer': 'iText 2.1.7 by 1T3XT; modified using iText® 5.2.1 ©2000-2012 1T3XT BVBA', 'creator': 'JasperReports Library version 5.6.0', 'creationdate': '2025-09-17T18:23:33+05:30', 'moddate': '2025-09-17T18:23:33+05:30', 'source': '..\\\\data\\\\pdf\\\\Policy_schedule_doc - 2025-09-17T182353.824.pdf', 'total_pages': 9, 'page': 4, 'page_label': '5', 'doc_index': 41, 'content_length': 976}, {'producer': 'iText 2.1.7 by 1T3XT; modified using iText® 5.2.1 ©2000-2012 1T3XT BVBA', 'creator': 'JasperReports Library version 5.6.0', 'creationdate': '2025-09-17T18:23:33+05:30', 'moddate': '2025-09-17T18:23:33+05:30', 'source': '..\\\\data\\\\pdf\\\\Policy_schedule_doc - 2025-09-17T182353.824.pdf', 'total_pages': 9, 'page': 4, 'page_label': '5', 'doc_index': 42, 'content_length': 882}, {'producer': 'iText 2.1.7 by 1T3XT; modified using iText® 5.2.1 ©2000-2012 1T3XT BVBA', 'creator': 'JasperReports Library version 5.6.0', 'creationdate': '2025-09-17T18:23:33+05:30', 'moddate': '2025-09-17T18:23:33+05:30', 'source': '..\\\\data\\\\pdf\\\\Policy_schedule_doc - 2025-09-17T182353.824.pdf', 'total_pages': 9, 'page': 5, 'page_label': '6', 'doc_index': 43, 'content_length': 902}, {'producer': 'iText 2.1.7 by 1T3XT; modified using iText® 5.2.1 ©2000-2012 1T3XT BVBA', 'creator': 'JasperReports Library version 5.6.0', 'creationdate': '2025-09-17T18:23:33+05:30', 'moddate': '2025-09-17T18:23:33+05:30', 'source': '..\\\\data\\\\pdf\\\\Policy_schedule_doc - 2025-09-17T182353.824.pdf', 'total_pages': 9, 'page': 5, 'page_label': '6', 'doc_index': 44, 'content_length': 936}, {'producer': 'iText 2.1.7 by 1T3XT; modified using iText® 5.2.1 ©2000-2012 1T3XT BVBA', 'creator': 'JasperReports Library version 5.6.0', 'creationdate': '2025-09-17T18:23:33+05:30', 'moddate': '2025-09-17T18:23:33+05:30', 'source': '..\\\\data\\\\pdf\\\\Policy_schedule_doc - 2025-09-17T182353.824.pdf', 'total_pages': 9, 'page': 5, 'page_label': '6', 'doc_index': 45, 'content_length': 233}, {'producer': 'iText 2.1.7 by 1T3XT; modified using iText® 5.2.1 ©2000-2012 1T3XT BVBA', 'creator': 'JasperReports Library version 5.6.0', 'creationdate': '2025-09-17T18:23:33+05:30', 'moddate': '2025-09-17T18:23:33+05:30', 'source': '..\\\\data\\\\pdf\\\\Policy_schedule_doc - 2025-09-17T182353.824.pdf', 'total_pages': 9, 'page': 6, 'page_label': '7', 'doc_index': 46, 'content_length': 977}, {'producer': 'iText 2.1.7 by 1T3XT; modified using iText® 5.2.1 ©2000-2012 1T3XT BVBA', 'creator': 'JasperReports Library version 5.6.0', 'creationdate': '2025-09-17T18:23:33+05:30', 'moddate': '2025-09-17T18:23:33+05:30', 'source': '..\\\\data\\\\pdf\\\\Policy_schedule_doc - 2025-09-17T182353.824.pdf', 'total_pages': 9, 'page': 6, 'page_label': '7', 'doc_index': 47, 'content_length': 679}, {'producer': 'iText 2.1.7 by 1T3XT; modified using iText® 5.2.1 ©2000-2012 1T3XT BVBA', 'creator': 'JasperReports Library version 5.6.0', 'creationdate': '2025-09-17T18:23:33+05:30', 'moddate': '2025-09-17T18:23:33+05:30', 'source': '..\\\\data\\\\pdf\\\\Policy_schedule_doc - 2025-09-17T182353.824.pdf', 'total_pages': 9, 'page': 7, 'page_label': '8', 'doc_index': 48, 'content_length': 961}, {'producer': 'iText 2.1.7 by 1T3XT; modified using iText® 5.2.1 ©2000-2012 1T3XT BVBA', 'creator': 'JasperReports Library version 5.6.0', 'creationdate': '2025-09-17T18:23:33+05:30', 'moddate': '2025-09-17T18:23:33+05:30', 'source': '..\\\\data\\\\pdf\\\\Policy_schedule_doc - 2025-09-17T182353.824.pdf', 'total_pages': 9, 'page': 7, 'page_label': '8', 'doc_index': 49, 'content_length': 977}, {'producer': 'iText 2.1.7 by 1T3XT; modified using iText® 5.2.1 ©2000-2012 1T3XT BVBA', 'creator': 'JasperReports Library version 5.6.0', 'creationdate': '2025-09-17T18:23:33+05:30', 'moddate': '2025-09-17T18:23:33+05:30', 'source': '..\\\\data\\\\pdf\\\\Policy_schedule_doc - 2025-09-17T182353.824.pdf', 'total_pages': 9, 'page': 7, 'page_label': '8', 'doc_index': 50, 'content_length': 501}, {'producer': 'iText 2.1.7 by 1T3XT; modified using iText® 5.2.1 ©2000-2012 1T3XT BVBA', 'creator': 'JasperReports Library version 5.6.0', 'creationdate': '2025-09-17T18:23:33+05:30', 'moddate': '2025-09-17T18:23:33+05:30', 'source': '..\\\\data\\\\pdf\\\\Policy_schedule_doc - 2025-09-17T182353.824.pdf', 'total_pages': 9, 'page': 8, 'page_label': '9', 'doc_index': 51, 'content_length': 379}, {'producer': 'Skia/PDF m143 Google Docs Renderer', 'creator': 'PyPDF', 'creationdate': '', 'title': 'professional_reference_letter', 'source': '..\\\\data\\\\pdf\\\\professional_reference_letter.pdf', 'total_pages': 1, 'page': 0, 'page_label': '1', 'doc_index': 52, 'content_length': 922}, {'producer': 'Skia/PDF m143 Google Docs Renderer', 'creator': 'PyPDF', 'creationdate': '', 'title': 'professional_reference_letter', 'source': '..\\\\data\\\\pdf\\\\professional_reference_letter.pdf', 'total_pages': 1, 'page': 0, 'page_label': '1', 'doc_index': 53, 'content_length': 537}]\n",
      "document_text:  [\"Welcome to Bajaj Allianz Family\\n BARDOLI(VSO)-Shop Nos.25 To 28, Mezzanine Floor, , Megh Mayur Plazaratan\\nBaug, , Surat Dumas Roadsurat, Surat, Gujarat, INDIA, 395007, 9999999999\\nPolicy issuing office and correspondence address for communication by\\npolicyholder for claim, service request, notice, summons, etc.:\\n   Insured Name Pragneshkumar Rajubhai Nayka  Policy Number  12-1805-0007923327-00\\nName: Pragneshkumar Rajubhai Nayka\\nAddress:\\nLine 1: Parsigali Faliyu , Boriya T Mahuva D Surat\\nCity: Surat, State: Gujarat\\nPostcode: 395620\\nCustomer ID: PI35470101\\nLine 2:   ,\\nDear Pragneshkumar Rajubhai Nayka,\\nWe thank you for choosing Bajaj Allianz for your Insurance needs. We are one of India's leading general insurance companies with iAAA rating\\nfrom ICRA for the last ten consecutive years indicating the company's high claims paying ability and fundamentally strong position in the industry.\", \"from ICRA for the last ten consecutive years indicating the company's high claims paying ability and fundamentally strong position in the industry.\\nPlease be assured that you have made the right choice by choosing us and we will stand by you in your hour of need.\\nIt is our privilege to welcome you to the Bajaj Allianz General Insurance family.\\nPlease find enclosed the policy schedule. We wish to inform you that the policy issued is based on the information submitted in the proposal form\\nas well as the acceptance of the terms and conditions, and this will be verified at the time of filing of claim. Request you to kindly go through the\\nsame once again and in case of any disagreement, discrepancy or clarifications – write to  us at bagichelp@bajajallianz.co.in within 15 days of the\\nletter date. For policy wordings containing detailed terms, conditions and exclusions of your insurance coverage, you will receive a hard copy on\\nyour correspondence address.\", 'letter date. For policy wordings containing detailed terms, conditions and exclusions of your insurance coverage, you will receive a hard copy on\\nyour correspondence address.\\nWe assure you the best of our services and look forward to a continual patronage and association with you.\\nFor on the behalf\\nBajaj Allianz General Insurance Company Ltd.\\nOnce again, we welcome you to the Bajaj Allianz family and look forward to a long association with you.\\nAuthorized Signatory\\nBajaj Allianz General Insurance Co.Ltd. Bajaj Allianz House, Airport Road, Yerawada, Pune -411 006.IRDA Reg. No.:113 CIN:U66010PN2000PLC015329\\nGive a Missed Call on 8080945060, SMS ‘WORRY’ to 575758\\n \\n \\nhttp://www.facebook.com/BajajAllianz\\nContact our 24-Hour Call Center at 1800-209-5858\\n \\n \\nhttp://twitter.com/BajajAllianz\\nwww.bajajallianz.com\\n \\n \\nwww.bit.do/bjazgi\\nbagichelp@bajajallianz.co.in', \"Dear Pragneshkumar Rajubhai Nayka\\nWe wish to inform you that your contract under policy number '12-1805-0007923327-00'  will be based on the information and declaration given\\nby you through telephonic conversation / email / web-inputs / TAB/CSC Centres or other means which would be considered as the final proposal,\\nthe transcript of which is as follows:\\nYou are requested to reconfirm the same. In case of any disagreement or objection or any changes with respect to information mentioned below,\\nwe request you to please revert back within a period of 15 days from date of your receipt of this, failing which it will be deemed that you are\\nsatisfied with the correctness of the details mentioned below. Kindly note that as the contents and declarations contained in this transcript is the\\nbasis on which we have issued the policy to you, we advise you to please ensure that you have provided/disclosed and or not withheld any\", 'basis on which we have issued the policy to you, we advise you to please ensure that you have provided/disclosed and or not withheld any\\nmaterial facts/information and declarations, as Policy becomes Void ab initio if material facts are not provided/disclosed and or withheld and in\\nsuch case no claim, if any, will be considered by us apart from forfeiture of the premium.\\nDetails provided by you:\\nTRANSCRIPT OF PROPOSAL FOR\\nLiability Only Policy For Private Car\\n UIN : IRDAN113RP0040V01200102\\nA. Proposer details:\\n  Name Pragneshkumar Rajubhai Nayka\\n  Mailing Address  PARSIGALI FALIYU , BORIYA T MAHUVA D SURAT  ,   ALLU SURAT 395620 GUJARAT\\n  Mobile Number  9999999999\\n  Permanent Address  Parsigali Faliyu , Boriya T Mahuva D Surat   , Allu Surat 395620 Gujarat\\n  Email ID  NA\\n  Profession  NA\\nB. Vehicle Details:\\nRegistration\\nNumber\\nMonth / Year of\\nRegistration\\nVehicle\\nMake\\nVehicle\\nModel\\nVehicle Sub\\nType CC KW Fuel Type\\n MAY/2018 MARUTI  5 STR  1197  PETROL(P)EECO  0 GJ-26-N-9600\\nValue of', 'B. Vehicle Details:\\nRegistration\\nNumber\\nMonth / Year of\\nRegistration\\nVehicle\\nMake\\nVehicle\\nModel\\nVehicle Sub\\nType CC KW Fuel Type\\n MAY/2018 MARUTI  5 STR  1197  PETROL(P)EECO  0 GJ-26-N-9600\\nValue of\\nCNG/LPG\\n(Extra Fitted)\\nChassis Number Vehicle IDV\\n (in Rs)\\nNon-Electrical\\nAccessories\\nIDV (in Rs)\\nYear of\\nManufacture Engine Number\\nElectrical/Electroni\\ncal Accessories IDV\\n(in Rs)\\nTotal IDV (in Rs)Seating\\nCapacity\\n 0  0 G12BN588844 MA3ERLF1S00610\\n769  0 2018  5\\nC. Coverage opted:\\n   3. Whether PA cover is opted for owner-driver  Yes\\n YES   2. Is your vehicle fitted with external LPG/CNG kit.\\n   1. Period of Insurance\\n From 02-09-2025 00:00:01 hrs to 01-09-2026 Midnight                         For Third Party Liability Section\\n From 02-09-2025 00:00:01 hrs to 01-09-2026 Midnight                         For Compulsory Personal Accident Cover for Owner Driver\\n   6. Whether PA cover is opted for paid driver other than owner driver\\n       i. No of paid Drivers', '6. Whether PA cover is opted for paid driver other than owner driver\\n       i. No of paid Drivers\\n       ii.Sum Insured for Paid Driver\\n Yes\\n 100000\\n 1\\n   8. Is TPPD restricted to statutory limit of Rs.6000?  No\\n NA\\n   5. Is LL to person for Paid driver/Operation/Maintenance opted\\n      i. No of persons\\n No\\n   7.Whether PA cover is opted for passengers\\n       i. Number of Passengers\\n       ii.Sum Insured per Passenger\\n No\\n 0\\n 0\\n   4. i. Whether  geographical area extension is opted\\n       ii. Details of Countries to which geographical area extension is covered\\n No\\n NA', '11. Do you have valid Fitness certificate of the vehicle \\n  10. Do you have valid PUC certificate of the vehicle\\n  13. Customer Level Underwriting Declaration  NA\\n Rs. 3857   9. Premium for Liability coverage, quoted and agreed upon\\n  12. About the last insurance company\\n     i. Insurance Provider\\n     ii. Previous Policy No\\n     iii. Previous Policy Expiry Date\\n NA\\n NA\\nBajaj Allianz General Insurance Co.Ltd. Bajaj Allianz House, Airport Road, Yerawada, Pune -411 006.IRDA Reg. No.:113 CIN:U66010PN2000PLC015329\\nGive a Missed Call on 8080945060, SMS ‘WORRY’ to 575758\\n \\n \\nhttp://www.facebook.com/BajajAllianz\\nContact our 24-Hour Call Center at 1800-209-5858\\n \\n \\nhttp://twitter.com/BajajAllianz\\nwww.bajajallianz.com\\n \\n \\nwww.bit.do/bjazgi\\nIn case of Disagreement or objection or any changes with respect to information and contents mentioned hereinabove,please contact our toll', 'www.bajajallianz.com\\n \\n \\nwww.bit.do/bjazgi\\nIn case of Disagreement or objection or any changes with respect to information and contents mentioned hereinabove,please contact our toll\\nfree number & register your objections/changes/disagreement to the contents of this transcript or you may also send us email or written\\ncorrespondence at the following details within a period of 15 days from date of your receipt of this transcript\\nalong with Policy:\\nI/We hereby unconditionally allow the Company to share all my / our information being collected in this proposal form or through telephonic /\\nemail / web-inputs means or other means, as updated from time to time within group entities.\\nContact our policy servicing branch at:  SHOP NOS.25 TO 28, MEZZANINE FLOOR,  MEGH MAYUR PLAZARATAN BAUG,  SURAT DUMAS\\nROADSURAT SURAT GUJARAT INDIA\\nNo person shall allow or offer to allow, either directly or indirectly, as an inducement to any person to take out or renew or continue an', 'ROADSURAT SURAT GUJARAT INDIA\\nNo person shall allow or offer to allow, either directly or indirectly, as an inducement to any person to take out or renew or continue an\\ninsurance in respect of any kind of risk relating to lives or property in India, any rebate of the whole or part of the commission payable or any\\nrebate of the premium shown on the policy, nor shall any person taking out or renewing or continuing a policy accept any rebate except such\\nrebate as may be allowed in accordance with the published prospectuses or tables of the Insurer. Any person making default in complying with\\nthe provisions of this section shall be punishable with a penalty, which may extend to Ten Lakh Rupees.\\nProhibition of Rebates\\nSECTION 41 OF INSURANCE ACT, 1938\\nI/We hereby give voluntary consent to BAGIC/Company to share my/our personal information and data provided in this proposal form with its', 'Prohibition of Rebates\\nSECTION 41 OF INSURANCE ACT, 1938\\nI/We hereby give voluntary consent to BAGIC/Company to share my/our personal information and data provided in this proposal form with its\\ngroup companies or any other person in connection with the Insurance Policy or otherwise, including for providing products and services of group\\ncompanies that may be of interest to me/us, to be used in accordance with their respective privacy policies and subject to appropriate measures\\nbeing in place to safeguard my/our personal information.', 'Third Liability Cover  02-09-2025 00:00:01 hrs  01-09-2026 Midnight\\n    Zone  B\\n    Owner Driver CPA  02-09-2025 00:00:01 hrs  01-09-2026 Midnight\\n    Scrutiny No  NA\\n    Policy Issued on  01-09-2025 15:59:14 hrs\\n Parsigali Faliyu , Boriya T Mahuva D Surat,  , , Allu,, Surat,,\\nGujarat-395620\\n    Insured\\n    Address\\n    Premium Payer ID  22284903\\n    Hypothecated With  NA\\n    Insured Name Pragneshkumar Rajubhai Nayka\\n    Invoice Number  242509I001745480\\n    Customer ID  PI35470101\\n    Bank Reference No 1 \\n    Cover Note Details  NA\\n    Geographical Area  INDIA\\n From: 02-09-2025 00:00:01 hrs\\n To: 01-09-2026 Midnight\\n Period of Insurance\\n    Policy Status  ACTIVE POLICY\\n    Company GST No  24AABCB5730G1Z3\\n 12-1805-0007923327-00    Policy Number\\n    Place of Supply/\\n    State Code/Name  24 - GUJARAT\\n 11-1805-0014293613-00    Application No\\n    GSTIN / UIN\\n    Company PAN  AABCB5730G\\nPOLICY DETAILSINSURED DETAILS\\nVehicle Details:', 'Place of Supply/\\n    State Code/Name  24 - GUJARAT\\n 11-1805-0014293613-00    Application No\\n    GSTIN / UIN\\n    Company PAN  AABCB5730G\\nPOLICY DETAILSINSURED DETAILS\\nVehicle Details:\\n BARDOLI(VSO)-Shop Nos.25 To 28, Mezzanine Floor, , Megh Mayur\\nPlazaratan Baug, , Surat Dumas Roadsurat, Surat, Gujarat, INDIA, 395007,\\n9999999999\\nPolicy issuing office and correspondence address for communication by\\npolicyholder for claim, service request, notice, summons, etc.:\\nLiability Only Policy For Private Car - POLICY SCHEDULE CUM CERTIFICATE OF INSURANCE\\nGJ-26-N-9600 MARUTI EECO  1197 05 STR\\nYear of Manufacture Engine Number Vehicle IDV(Rs)Place of Reg Chassis NumberSeating Capacity\\n2018 GJ26-VYARA 5 G12BN588844 0MA3ERLF1S00610769\\n00 0\\nValue of CNG/LPG (Extra Fitted) IDV  (Rs) Total IDV (Rs)Non-Electrical\\naccessories(Rs) No of TrailerElectrical/ Electronical\\nAccessories(Rs)\\n Vehicle Make Vehicle SubtypeRegistration Number Vehicle Model CC KW\\n UIN : IRDAN113RP0040V01200102\\nSCHEDULE OF PREMIUM', 'accessories(Rs) No of TrailerElectrical/ Electronical\\nAccessories(Rs)\\n Vehicle Make Vehicle SubtypeRegistration Number Vehicle Model CC KW\\n UIN : IRDAN113RP0040V01200102\\nSCHEDULE OF PREMIUM\\nnull  null\\n 347SGST (9%)\\n 4551  Final Premium\\n Total Premium  3857\\n 347Central GST (9%)\\n  Cess\\n  Final Premium (In Words)  Four Thousand Five Hundred\\nFifty-One  Only\\n ***All premium Figures are in Rupees.\\n Total Own Damage  NA Basic Third Party Liability  3416\\nCNG or LPG kit in Bi-Fuel System IMT\\n25\\n 60\\nPA Paid Drivers IMT 17  50\\nCompulsory Personal Accident -SI-\\n1500000 Period: From 02/09/2025 To\\n01/09/2026\\n 331\\n 3857 Total Liability Premium', 'Agency Details\\n“As per the GST regulations, the amount of GST will not be refunded if the policy / endorsement is cancelled after 30th September of the next financial year E. &\\nO.E.”\\n“In case no GSTIN or incorrect GSTIN is provided by the Proposer at Proposal stage, Bajaj Allianz General Insurance Company Ltd shall not be responsible for any\\nInput Tax Credit losses and no subsequent revision of invoice will be undertaken.”\\n Agency Name  RITABEN NDHIMAR  DHIMAR   Email ID  ADHIMAR9@GMAIL.COM\\n Sub IMD Code\\n NA SP Code  SP Name \\n Agency Code   Phone Number  9377713554 10022620\\n NA POSP Code  SP/POSP Contact No\\n SP/POSP Aadhar No  SP/POSP PAN No \\n   Limitation as to Use\\nThe Policy covers use of the vehicle for any purpose other than : Hire or reward, Carriage of goods( other\\nthan samples or personal luggage),Organised racing,Pace making, Speed testing, Reliability trials. Any\\npurpose in connection with Motor Trade.', \"than samples or personal luggage),Organised racing,Pace making, Speed testing, Reliability trials. Any\\npurpose in connection with Motor Trade.\\nAny person including the insured provided that a person driving holds an effective driving license at the time\\nof the accident and is not disqualified from holding or obtaining such a license. Provided also that the person\\nholding an effective Learner's license may also drive the vehicle when not used for the transport of\\ngoods/passengers at the time of the accident and that such a person satisfies the requirements of Rule 3 of\\nthe Central Motor Vehicle Rules, 1989\\n   Driver\\n   Limits of Liability\\n Under section II-I(i) of the policy -> Death of or bodily injury : Such amount is necessary to meet there\\nrequirements of the Motor Vehicles Act,1988. Under section II-I(ii) of the policy ->Damage to Third Party\\nProperty : Rs. 750000\\n   No Claim Bonus  NA\\n  Existing Damage Details  NA\\n Nominee Name: RAJUBHAI   Nominee Details  Relationship:\", 'Property : Rs. 750000\\n   No Claim Bonus  NA\\n  Existing Damage Details  NA\\n Nominee Name: RAJUBHAI   Nominee Details  Relationship:\\n 17, 25   Subject to Warranties/\\n   IMT-Endorsements\\n Coinsurance Details: - .Transaction Id: -NA.   Additional Details\\nSYS-25-000007621545/1,Date 01/09/2025** If Premium paid through Cheque, the Policy is\\n void ab-initio in case of dishonour of Cheque.   Premium Details\\nCompulsory Excess: Rs. NA Voluntary Excess: Rs. NA Additional Excess: Rs. NA   Excess Details\\n Cover Details & Limitations of Use\\nImportant Notice :\\nThe insured is not indemnified if the vehicle is used or driven otherwise than in accordance with this Schedule. Any payment made\\nby the Company by reason of wider terms appearing in the Certificate in order to comply with the Motor Vehicle Act, 1988 is\\nrecoverable from the insured. See the clause headed \"AVOIDANCE OF CERTAIN TERMS AND RIGHT OF RECOVERY\"', 'Authorized Signatory\\nPrinted, Signed and Executed at Pune\\nThis document is digitally signed, hence counter signature / stamp is not required.\\n*Warranted that insured named herein or owner of the vehicle insured holds a valid Pollution Under Control (PUC) and / or Fitness\\nCertificate on the date of commencement of the Policy. If the PUC and/or Fitness Certificate is not found to be valid on the date of\\ncommencement of the Policy, the Company reserves its right to consider the policy void ab initio.\\nFor & On Behalf of Bajaj Allianz General Insurance Company Ltd.\\n \\nRs 0.50\\nStamp Duty\\nPrincipal Location: 2202 |Service Accounting Code: 997134 Motor vehicle insurance services. No reverse charge is payable on these services.\\nConsolidated stamp duty Rs.0.50 paid for insurance policy stamps Challan No.MH015538899202425M DEFACED NO 0008972915202425 Order\\nNo.CSD/19/2025/816 Order Dated 20-FEB-25 Defaced Dated 01-MAR-25 having validity from 01-MAR-25 to 28-FEB-27 of General Stamp Office', 'No.CSD/19/2025/816 Order Dated 20-FEB-25 Defaced Dated 01-MAR-25 having validity from 01-MAR-25 to 28-FEB-27 of General Stamp Office\\nMumbai,India.\\nLatest Schedule – 01-09-2025 03:59:14 PM - - Module- PARTNERPORTAL\\nIt is mandatory to keep your policy with updated contact (Mobile No., Email ID and PAN Card) and bank account details, to process\\nany of your service requests faster and hassle-free in future.\\nYou can update the same through Caringly yours App, WhatsApp Service { Say ‘Hi’ on WhatsApp - +91 75072 45858}, Contact our\\n24-Hour Call Center at 1800-209-5858, 1800-102-5858, Give a Missed Call on – 8080945060, SMS “WORRY” to 575758, Email -\\nbagichelp@bajajallianz.co.in , Website - www.bajajallianz.com, contact your agent or nearest branch.\\nbagichelp@bajajallianz.co.in\\n \\nContact our 24-Hour Call Center at 1800-209-5858\\n \\n \\nhttp://twitter.com/BajajAllianz', 'bagichelp@bajajallianz.co.in\\n \\nContact our 24-Hour Call Center at 1800-209-5858\\n \\n \\nhttp://twitter.com/BajajAllianz\\nBajaj Allianz General Insurance Co.Ltd. Bajaj Allianz House, Airport Road, Yerawada, Pune -411 006.IRDA Reg. No.:113 CIN:U66010PN2000PLC015329\\nGive a Missed Call on 8080945060, SMS ‘WORRY’ to 575758\\n \\n \\nhttp://www.facebook.com/BajajAllianz\\nwww.bajajallianz.com\\n \\n \\nwww.bit.do/bjazgi\\n \\n \\n \\n \\n \\nWhatsapp ServiceOnline GrievanceCaringly Yours App Claim RegistrationPolicy Details', 'Receipt Number :  SYS-25-000007621545/1\\n Receipt Date :  01/09/2025\\n Business Channel :  Growth Markets\\n(Customer ID: PI35470101) a total sum of Rupees FOUR THOUSAND FIVE HUNDRED FIFTY-ONE  ONLY by,\\nPolicy Issuing Office and correspondence address for communication\\nby policy holder for claim, service request, notice, summons etc.\\nBARDOLI(VSO)-Shop Nos.25 To 28, Mezzanine Floor, ,\\nMegh Mayur Plazaratan Baug, , Surat Dumas\\nRoadsurat, Surat, Gujarat, INDIA, 395007,\\nPolicy NumberProposer Name Pragneshkumar Rajubhai Nayka  12-1805-0007923327-00\\nRECEIPT\\nInst./Ref. No.Instrument Type Instrument Date Bank Name Branch Name Amount (Rs.)\\n01-Sep-2025 NACD-IMD NA NA 4,551.00\\nBajaj Allianz General Insurance Co.Ltd. Bajaj Allianz House, Airport Road, Yerawada, Pune -411 006.IRDA Reg. No.:113 CIN:U66010PN2000PLC015329\\nGive a Missed Call on 8080945060, SMS ‘WORRY’ to 575758\\n \\n \\nhttp://www.facebook.com/BajajAllianz\\nContact our 24-Hour Call Center at 1800-209-5858\\n \\n \\nhttp://twitter.com/BajajAllianz', 'Give a Missed Call on 8080945060, SMS ‘WORRY’ to 575758\\n \\n \\nhttp://www.facebook.com/BajajAllianz\\nContact our 24-Hour Call Center at 1800-209-5858\\n \\n \\nhttp://twitter.com/BajajAllianz\\nwww.bajajallianz.com\\n \\n \\nwww.bit.do/bjazgi\\nbagichelp@bajajallianz.co.in\\n \\n \\nTotal Amount: 4551\\nNote: Issuance of this receipt does not amount of acceptance of the risk by Bajaj Allianz General Insurance Company Limited. The insurance\\nFor & on the behalf\\nBajaj Allianz General Insurance Company Ltd.\\n* Cheque/DD/PO receipt is valid subject to realisation of the instrument\\n cover for the risk shall be as per the terms and conditions of the Insurance Policy if and when issued.\\nAuthorized Signatory', 'Customer ID242509I001745480Invoice Number PI35470101\\n01/09/2025Invoice Date Policy No. 12-1805-0007923327-00\\nSupplier/ Details of InsurerRecipient/ Details of Insured\\nUnregisteredGSTIN GSTIN 24AABCB5730G1Z3\\nNA PANPAN AABCB5730G\\nBajaj Allianz General Insurance Company Ltd.NamePRAGNESHKUMAR RAJUBHAI NAYKAName (Proposer)\\nAddress-1 Shop Nos.25 To 28, Mezzanine Floor,Parsigali Faliyu , Boriya T Mahuva D Surat Address-1\\n Address-2Address-2 Megh Mayur Plazaratan Baug,\\n(Customer Copy)\\nTAX INVOICE\\nAddress-3 Surat Dumas RoadsuratAddress-3\\n395620 395007Pin Code Pin Code\\nSURATSURAT CityCity\\nGUJARATStateState GUJARAT\\nPlace of\\nSupplyNON HNIClient Category 24 - GUJARAT\\nPremium\\n Amount(INR)  Description   Amount(INR)  Description\\n  Net Premium 3857\\n 0IGST(18%)\\n  Gross Premium 4551\\n 0IGST(12%)\\nReceipt Number: SYS-25-000007621545 Date: 01/09/2025\\nPremium Payer ID: 22284903 Float: NA; ** If Premium paid\\nthrough Cheque, the Policy is void ab-initio in case of dishonour\\nof Cheque  347CGST(9%)', 'Receipt Number: SYS-25-000007621545 Date: 01/09/2025\\nPremium Payer ID: 22284903 Float: NA; ** If Premium paid\\nthrough Cheque, the Policy is void ab-initio in case of dishonour\\nof Cheque  347CGST(9%)\\n 347SGST/UTGST(9%)\\n 0SGST/UTGST(6%)\\n 0CGST(6%)\\nTotal Invoice Value (In figures) :4551\\nRupees Four Thousand Five Hundred Fifty-One  OnlyTotal Invoice Value (In Words) :\\nNo reverse charge is payable on these services.Amount of Tax Subject to Reverse Charge:\\nServices Accounting Code: 997134 Motor vehicle insurance services.\\nPrincipal Location:Bajaj Allianz House, Airport Road, Yerwada, Pune- 411006 PH-66026666\\nBajaj Allianz General Insurance Company Ltd.\\nFor & on the behalf\\nImportant Notes:\\n* The invoice is issued as per Section 31 of the CGST Act\\n* In case no GSTIN or incorrect GSTIN is provided by the Proposer at Proposal stage, Bajaj Allianz General Insurance Company Ltd shall not be responsible for any Input\\nTax Credit losses and no subsequent revision of invoice will be undertaken', 'Tax Credit losses and no subsequent revision of invoice will be undertaken\\n* As per the GST regulations, the amount of GST will not be refunded if the policy / endorsement is cancelled after 30th September of the next financial year\\nAuthorized Signatory\\nThis is a digitally signed document and hence no physical signature is required', 'Contact our 24-Hour Call\\n \\n1800-209-5858\\n \\nwww.bajajallianz.com\\nbagichelp@bajajallianz.co.in\\n \\nhttp://www.facebook.com/BajajAllianz\\n \\nhttp://twitter.com/BajajAllianz\\n \\nwww.bit.do/bjazgi\\n \\nBajaj Allianz General Insurance Co.Ltd. Bajaj Allianz House,Airport Road,Yerwada,Pune -411006.IRDA Reg.No:113 CIN:U66010PN2000PLC015329\\nGive a Missed Call on 8080945060, SMS ‘WORRY’ to 575758', \"Welcome to Bajaj Allianz Family\\n BARDOLI(VSO)-Shop Nos.25 To 28, Mezzanine Floor, , Megh Mayur Plazaratan\\nBaug, , Surat Dumas Roadsurat, Surat, Gujarat, INDIA, 395007, 9999999999\\nPolicy issuing office and correspondence address for communication by\\npolicyholder for claim, service request, notice, summons, etc.:\\n   Insured Name Nasimbhai Liyakat Shekh  Policy Number  12-1805-0008046643-00\\nName: Nasimbhai Liyakat Shekh\\nAddress:\\nLine 1: B 37 , Aksha Nagar , M G Road , Bardoli T Bardoli D Surat\\nCity: Surat, State: Gujarat\\nPostcode: 394601\\nCustomer ID: PI35641605\\nLine 2:   ,\\nDear Nasimbhai Liyakat Shekh,\\nWe thank you for choosing Bajaj Allianz for your Insurance needs. We are one of India's leading general insurance companies with iAAA rating\\nfrom ICRA for the last ten consecutive years indicating the company's high claims paying ability and fundamentally strong position in the industry.\", \"from ICRA for the last ten consecutive years indicating the company's high claims paying ability and fundamentally strong position in the industry.\\nPlease be assured that you have made the right choice by choosing us and we will stand by you in your hour of need.\\nIt is our privilege to welcome you to the Bajaj Allianz General Insurance family.\\nPlease find enclosed the policy schedule. We wish to inform you that the policy issued is based on the information submitted in the proposal form\\nas well as the acceptance of the terms and conditions, and this will be verified at the time of filing of claim. Request you to kindly go through the\\nsame once again and in case of any disagreement, discrepancy or clarifications – write to  us at bagichelp@bajajallianz.co.in within 15 days of the\\nletter date. For policy wordings containing detailed terms, conditions and exclusions of your insurance coverage, you will receive a hard copy on\\nyour correspondence address.\", 'letter date. For policy wordings containing detailed terms, conditions and exclusions of your insurance coverage, you will receive a hard copy on\\nyour correspondence address.\\nWe assure you the best of our services and look forward to a continual patronage and association with you.\\nFor on the behalf\\nBajaj Allianz General Insurance Company Ltd.\\nOnce again, we welcome you to the Bajaj Allianz family and look forward to a long association with you.\\nAuthorized Signatory\\nBajaj Allianz General Insurance Co.Ltd. Bajaj Allianz House, Airport Road, Yerawada, Pune -411 006.IRDA Reg. No.:113 CIN:U66010PN2000PLC015329\\nGive a Missed Call on 8080945060, SMS ‘WORRY’ to 575758\\n \\n \\nhttp://www.facebook.com/BajajAllianz\\nContact our 24-Hour Call Center at 1800-209-5858\\n \\n \\nhttp://twitter.com/BajajAllianz\\nwww.bajajallianz.com\\n \\n \\nwww.bit.do/bjazgi\\nbagichelp@bajajallianz.co.in', \"Dear Nasimbhai Liyakat Shekh\\nWe wish to inform you that your contract under policy number '12-1805-0008046643-00'  will be based on the information and declaration given\\nby you through telephonic conversation / email / web-inputs / TAB/CSC Centres or other means which would be considered as the final proposal,\\nthe transcript of which is as follows:\\nYou are requested to reconfirm the same. In case of any disagreement or objection or any changes with respect to information mentioned below,\\nwe request you to please revert back within a period of 15 days from date of your receipt of this, failing which it will be deemed that you are\\nsatisfied with the correctness of the details mentioned below. Kindly note that as the contents and declarations contained in this transcript is the\\nbasis on which we have issued the policy to you, we advise you to please ensure that you have provided/disclosed and or not withheld any\", 'basis on which we have issued the policy to you, we advise you to please ensure that you have provided/disclosed and or not withheld any\\nmaterial facts/information and declarations, as Policy becomes Void ab initio if material facts are not provided/disclosed and or withheld and in\\nsuch case no claim, if any, will be considered by us apart from forfeiture of the premium.\\nDetails provided by you:\\nTRANSCRIPT OF PROPOSAL FOR\\nLiability Only Policy For Private Car\\n UIN : IRDAN113RP0040V01200102\\nA. Proposer details:\\n  Name Nasimbhai Liyakat Shekh\\n  Mailing Address  B 37 , AKSHA NAGAR , M G ROAD , BARDOLI T BARDOLI D SURAT  ,   BARDOLI SURAT 394601 GUJARAT\\n  Mobile Number  9999999999\\n  Permanent Address  B 37 , Aksha Nagar , M G Road , Bardoli T Bardoli D Surat   , Bardoli Surat 394601 Gujarat\\n  Email ID  ADHIMAR9@GMAIL.COM\\n  Profession  NA\\nB. Vehicle Details:\\nRegistration\\nNumber\\nMonth / Year of\\nRegistration\\nVehicle\\nMake\\nVehicle\\nModel\\nVehicle Sub\\nType CC KW Fuel Type', 'Email ID  ADHIMAR9@GMAIL.COM\\n  Profession  NA\\nB. Vehicle Details:\\nRegistration\\nNumber\\nMonth / Year of\\nRegistration\\nVehicle\\nMake\\nVehicle\\nModel\\nVehicle Sub\\nType CC KW Fuel Type\\n MAY/2011 MARUTI  5 STR  1197  PETROL(P)EECO  0 GJ-05-JP-8983\\nValue of\\nCNG/LPG\\n(Extra Fitted)\\nChassis Number Vehicle IDV\\n (in Rs)\\nNon-Electrical\\nAccessories\\nIDV (in Rs)\\nYear of\\nManufacture Engine Number\\nElectrical/Electroni\\ncal Accessories IDV\\n(in Rs)\\nTotal IDV (in Rs)Seating\\nCapacity\\n 0  0 B12BN181292 MA3ERLF1S00201\\n204  0 2011  5\\nC. Coverage opted:\\n   3. Whether PA cover is opted for owner-driver  No, Exemption Reason:Owner does not have valid driving\\nlicense\\n YES   2. Is your vehicle fitted with external LPG/CNG kit.\\n   1. Period of Insurance\\n From 18-09-2025 00:00:01 hrs to 17-09-2026 Midnight                         For Third Party Liability Section\\n From Not Applicable to Not Applicable                         For Compulsory Personal Accident Cover for Owner Driver', 'From Not Applicable to Not Applicable                         For Compulsory Personal Accident Cover for Owner Driver\\n   6. Whether PA cover is opted for paid driver other than owner driver\\n       i. No of paid Drivers\\n       ii.Sum Insured for Paid Driver\\n Yes\\n 100000\\n 1\\n   8. Is TPPD restricted to statutory limit of Rs.6000?  No\\n NA\\n   5. Is LL to person for Paid driver/Operation/Maintenance opted\\n      i. No of persons\\n No\\n   7.Whether PA cover is opted for passengers\\n       i. Number of Passengers\\n       ii.Sum Insured per Passenger\\n No\\n 0\\n 0\\n   4. i. Whether  geographical area extension is opted\\n       ii. Details of Countries to which geographical area extension is covered\\n No\\n NA', '11. Do you have valid Fitness certificate of the vehicle \\n  10. Do you have valid PUC certificate of the vehicle\\n  13. Customer Level Underwriting Declaration  NA\\n Rs. 3526   9. Premium for Liability coverage, quoted and agreed upon\\n  12. About the last insurance company\\n     i. Insurance Provider\\n     ii. Previous Policy No\\n     iii. Previous Policy Expiry Date\\n NA\\n NA\\nBajaj Allianz General Insurance Co.Ltd. Bajaj Allianz House, Airport Road, Yerawada, Pune -411 006.IRDA Reg. No.:113 CIN:U66010PN2000PLC015329\\nGive a Missed Call on 8080945060, SMS ‘WORRY’ to 575758\\n \\n \\nhttp://www.facebook.com/BajajAllianz\\nContact our 24-Hour Call Center at 1800-209-5858\\n \\n \\nhttp://twitter.com/BajajAllianz\\nwww.bajajallianz.com\\n \\n \\nwww.bit.do/bjazgi\\nIn case of Disagreement or objection or any changes with respect to information and contents mentioned hereinabove,please contact our toll', 'www.bajajallianz.com\\n \\n \\nwww.bit.do/bjazgi\\nIn case of Disagreement or objection or any changes with respect to information and contents mentioned hereinabove,please contact our toll\\nfree number & register your objections/changes/disagreement to the contents of this transcript or you may also send us email or written\\ncorrespondence at the following details within a period of 15 days from date of your receipt of this transcript\\nalong with Policy:\\nI/We hereby unconditionally allow the Company to share all my / our information being collected in this proposal form or through telephonic /\\nemail / web-inputs means or other means, as updated from time to time within group entities.\\nContact our policy servicing branch at:  SHOP NOS.25 TO 28, MEZZANINE FLOOR,  MEGH MAYUR PLAZARATAN BAUG,  SURAT DUMAS\\nROADSURAT SURAT GUJARAT INDIA\\nNo person shall allow or offer to allow, either directly or indirectly, as an inducement to any person to take out or renew or continue an', 'ROADSURAT SURAT GUJARAT INDIA\\nNo person shall allow or offer to allow, either directly or indirectly, as an inducement to any person to take out or renew or continue an\\ninsurance in respect of any kind of risk relating to lives or property in India, any rebate of the whole or part of the commission payable or any\\nrebate of the premium shown on the policy, nor shall any person taking out or renewing or continuing a policy accept any rebate except such\\nrebate as may be allowed in accordance with the published prospectuses or tables of the Insurer. Any person making default in complying with\\nthe provisions of this section shall be punishable with a penalty, which may extend to Ten Lakh Rupees.\\nProhibition of Rebates\\nSECTION 41 OF INSURANCE ACT, 1938\\nI/We hereby give voluntary consent to BAGIC/Company to share my/our personal information and data provided in this proposal form with its', 'Prohibition of Rebates\\nSECTION 41 OF INSURANCE ACT, 1938\\nI/We hereby give voluntary consent to BAGIC/Company to share my/our personal information and data provided in this proposal form with its\\ngroup companies or any other person in connection with the Insurance Policy or otherwise, including for providing products and services of group\\ncompanies that may be of interest to me/us, to be used in accordance with their respective privacy policies and subject to appropriate measures\\nbeing in place to safeguard my/our personal information.', 'Third Liability Cover  18-09-2025 00:00:01 hrs  17-09-2026 Midnight\\n    Zone  B\\n    Owner Driver CPA  Not Applicable  Not Applicable\\n    Scrutiny No  NA\\n    Policy Issued on  17-09-2025 18:23:32 hrs\\n B 37 , Aksha Nagar , M G Road , Bardoli T Bardoli D Surat,\\n, , Bardoli,, Surat,, Gujarat-394601\\n    Insured\\n    Address\\n    Premium Payer ID  22284903\\n    Hypothecated With  NA\\n    Insured Name Nasimbhai Liyakat Shekh\\n    Invoice Number  242509I001775263\\n    Customer ID  PI35641605\\n    Bank Reference No 1 \\n    Cover Note Details  NA\\n    Geographical Area  INDIA\\n From: 18-09-2025 00:00:01 hrs\\n To: 17-09-2026 Midnight\\n Period of Insurance\\n    Policy Status  ACTIVE POLICY\\n    Company GST No  24AABCB5730G1Z3\\n 12-1805-0008046643-00    Policy Number\\n    Place of Supply/\\n    State Code/Name  24 - GUJARAT\\n 11-1805-0014432412-00    Application No\\n    GSTIN / UIN\\n    Company PAN  AABCB5730G\\nPOLICY DETAILSINSURED DETAILS\\nVehicle Details:\\n BARDOLI(VSO)-Shop Nos.25 To 28, Mezzanine Floor, , Megh Mayur', '11-1805-0014432412-00    Application No\\n    GSTIN / UIN\\n    Company PAN  AABCB5730G\\nPOLICY DETAILSINSURED DETAILS\\nVehicle Details:\\n BARDOLI(VSO)-Shop Nos.25 To 28, Mezzanine Floor, , Megh Mayur\\nPlazaratan Baug, , Surat Dumas Roadsurat, Surat, Gujarat, INDIA, 395007,\\n9999999999\\nPolicy issuing office and correspondence address for communication by\\npolicyholder for claim, service request, notice, summons, etc.:\\nLiability Only Policy For Private Car - POLICY SCHEDULE CUM CERTIFICATE OF INSURANCE\\nGJ-05-JP-8983 MARUTI EECO  1197 05 STR\\nYear of Manufacture Engine Number Vehicle IDV(Rs)Place of Reg Chassis NumberSeating Capacity\\n2011 GJ05-SURAT 5 B12BN181292 0MA3ERLF1S00201204\\n00 0\\nValue of CNG/LPG (Extra Fitted) IDV  (Rs) Total IDV (Rs)Non-Electrical\\naccessories(Rs) No of TrailerElectrical/ Electronical\\nAccessories(Rs)\\n Vehicle Make Vehicle SubtypeRegistration Number Vehicle Model CC KW\\n UIN : IRDAN113RP0040V01200102\\nSCHEDULE OF PREMIUM\\nnull  null\\n 317SGST (9%)\\n 4160  Final Premium', 'Accessories(Rs)\\n Vehicle Make Vehicle SubtypeRegistration Number Vehicle Model CC KW\\n UIN : IRDAN113RP0040V01200102\\nSCHEDULE OF PREMIUM\\nnull  null\\n 317SGST (9%)\\n 4160  Final Premium\\n Total Premium  3526\\n 317Central GST (9%)\\n  Cess\\n  Final Premium (In Words)  Four Thousand One Hundred\\nSixty  Only\\n ***All premium Figures are in Rupees.\\n Total Own Damage  NA Basic Third Party Liability  3416\\nCNG or LPG kit in Bi-Fuel System IMT\\n25\\n 60\\nPA Paid Drivers IMT 17  50\\n 3526 Total Liability Premium\\n“As per the GST regulations, the amount of GST will not be refunded if the policy / endorsement is cancelled after 30th September of the next financial year E. &\\nO.E.”\\n“In case no GSTIN or incorrect GSTIN is provided by the Proposer at Proposal stage, Bajaj Allianz General Insurance Company Ltd shall not be responsible for any\\nInput Tax Credit losses and no subsequent revision of invoice will be undertaken.”', \"Agency Details\\n Agency Name  RITABEN NDHIMAR  DHIMAR   Email ID  ADHIMAR9@GMAIL.COM\\n Sub IMD Code\\n NA SP Code  SP Name \\n Agency Code   Phone Number  9377713554 10022620\\n NA POSP Code  SP/POSP Contact No\\n SP/POSP Aadhar No  SP/POSP PAN No \\n   Limitation as to Use\\nThe Policy covers use of the vehicle for any purpose other than : Hire or reward, Carriage of goods( other\\nthan samples or personal luggage),Organised racing,Pace making, Speed testing, Reliability trials. Any\\npurpose in connection with Motor Trade.\\nAny person including the insured provided that a person driving holds an effective driving license at the time\\nof the accident and is not disqualified from holding or obtaining such a license. Provided also that the person\\nholding an effective Learner's license may also drive the vehicle when not used for the transport of\\ngoods/passengers at the time of the accident and that such a person satisfies the requirements of Rule 3 of\\nthe Central Motor Vehicle Rules, 1989\\n   Driver\", 'goods/passengers at the time of the accident and that such a person satisfies the requirements of Rule 3 of\\nthe Central Motor Vehicle Rules, 1989\\n   Driver\\n   Limits of Liability\\n Under section II-I(i) of the policy -> Death of or bodily injury : Such amount is necessary to meet there\\nrequirements of the Motor Vehicles Act,1988. Under section II-I(ii) of the policy ->Damage to Third Party\\nProperty : Rs. 750000\\n   No Claim Bonus  NA\\n  Existing Damage Details  NA\\n Nominee Name:   Nominee Details  Relationship:\\n 17, 25   Subject to Warranties/\\n   IMT-Endorsements\\n Coinsurance Details: - .Transaction Id: -NA.   Additional Details\\nSYS-25-000008560751/1  ,  SYS-25-000008560751/2,Date 17/09/2025  ,  17/09/2025** If Premium paid\\nthrough Cheque, the Policy is\\n void ab-initio in case of dishonour of Cheque.\\n   Premium Details\\nCompulsory Excess: Rs. NA Voluntary Excess: Rs. NA Additional Excess: Rs. NA   Excess Details\\n Cover Details & Limitations of Use\\nImportant Notice :', 'Premium Details\\nCompulsory Excess: Rs. NA Voluntary Excess: Rs. NA Additional Excess: Rs. NA   Excess Details\\n Cover Details & Limitations of Use\\nImportant Notice :\\nThe insured is not indemnified if the vehicle is used or driven otherwise than in accordance with this Schedule. Any payment made\\nby the Company by reason of wider terms appearing in the Certificate in order to comply with the Motor Vehicle Act, 1988 is\\nrecoverable from the insured. See the clause headed \"AVOIDANCE OF CERTAIN TERMS AND RIGHT OF RECOVERY\"\\n*Warranted that insured named herein or owner of the vehicle insured holds a valid Pollution Under Control (PUC) and / or Fitness\\nCertificate on the date of commencement of the Policy. If the PUC and/or Fitness Certificate is not found to be valid on the date of\\ncommencement of the Policy, the Company reserves its right to consider the policy void ab initio.', 'Authorized Signatory\\nPrinted, Signed and Executed at Pune\\nThis document is digitally signed, hence counter signature / stamp is not required.\\nFor & On Behalf of Bajaj Allianz General Insurance Company Ltd.\\n \\nRs 0.50\\nStamp Duty\\nPrincipal Location: 2202 |Service Accounting Code: 997134 Motor vehicle insurance services. No reverse charge is payable on these services.\\nConsolidated stamp duty Rs.0.50 paid for insurance policy stamps Challan No.MH015538899202425M DEFACED NO 0008972915202425 Order\\nNo.CSD/19/2025/816 Order Dated 20-FEB-25 Defaced Dated 01-MAR-25 having validity from 01-MAR-25 to 28-FEB-27 of General Stamp Office\\nMumbai,India.\\nLatest Schedule – 17-09-2025 06:23:32 PM - - Module- PARTNERPORTAL\\nIt is mandatory to keep your policy with updated contact (Mobile No., Email ID and PAN Card) and bank account details, to process\\nany of your service requests faster and hassle-free in future.', 'It is mandatory to keep your policy with updated contact (Mobile No., Email ID and PAN Card) and bank account details, to process\\nany of your service requests faster and hassle-free in future.\\nYou can update the same through Caringly yours App, WhatsApp Service { Say ‘Hi’ on WhatsApp - +91 75072 45858}, Contact our\\n24-Hour Call Center at 1800-209-5858, 1800-102-5858, Give a Missed Call on – 8080945060, SMS “WORRY” to 575758, Email -\\nbagichelp@bajajallianz.co.in , Website - www.bajajallianz.com, contact your agent or nearest branch.\\nbagichelp@bajajallianz.co.in\\n \\nContact our 24-Hour Call Center at 1800-209-5858\\n \\n \\nhttp://twitter.com/BajajAllianz\\nBajaj Allianz General Insurance Co.Ltd. Bajaj Allianz House, Airport Road, Yerawada, Pune -411 006.IRDA Reg. No.:113 CIN:U66010PN2000PLC015329\\nGive a Missed Call on 8080945060, SMS ‘WORRY’ to 575758\\n \\n \\nhttp://www.facebook.com/BajajAllianz\\nwww.bajajallianz.com\\n \\n \\nwww.bit.do/bjazgi', 'Give a Missed Call on 8080945060, SMS ‘WORRY’ to 575758\\n \\n \\nhttp://www.facebook.com/BajajAllianz\\nwww.bajajallianz.com\\n \\n \\nwww.bit.do/bjazgi\\n \\n \\n \\n \\n \\nWhatsapp ServiceOnline GrievanceCaringly Yours App Claim RegistrationPolicy Details', 'Receipt Number :  SYS-25-000008560751/1  ,  SYS-25-000008560751/2\\n Receipt Date :  17/09/2025  ,  17/09/2025\\n Business Channel :  Growth Markets\\n(Customer ID: PI35641605) a total sum of Rupees FOUR THOUSAND ONE HUNDRED SIXTY  ONLY by,\\nPolicy Issuing Office and correspondence address for communication\\nby policy holder for claim, service request, notice, summons etc.\\nBARDOLI(VSO)-Shop Nos.25 To 28, Mezzanine Floor, ,\\nMegh Mayur Plazaratan Baug, , Surat Dumas\\nRoadsurat, Surat, Gujarat, INDIA, 395007,\\nPolicy NumberProposer Name Nasimbhai Liyakat Shekh  12-1805-0008046643-00\\nRECEIPT\\nInst./Ref. No.Instrument Type Instrument Date Bank Name Branch Name Amount (Rs.)\\n17-Sep-2025 NACD-IMD NA NA 2,198.00\\n17-Sep-2025 NACD-IMD NA NA 1,962.00\\nBajaj Allianz General Insurance Co.Ltd. Bajaj Allianz House, Airport Road, Yerawada, Pune -411 006.IRDA Reg. No.:113 CIN:U66010PN2000PLC015329\\nGive a Missed Call on 8080945060, SMS ‘WORRY’ to 575758\\n \\n \\nhttp://www.facebook.com/BajajAllianz', 'Give a Missed Call on 8080945060, SMS ‘WORRY’ to 575758\\n \\n \\nhttp://www.facebook.com/BajajAllianz\\nContact our 24-Hour Call Center at 1800-209-5858\\n \\n \\nhttp://twitter.com/BajajAllianz\\nwww.bajajallianz.com\\n \\n \\nwww.bit.do/bjazgi\\nbagichelp@bajajallianz.co.in\\n \\n \\nTotal Amount: 4160\\nNote: Issuance of this receipt does not amount of acceptance of the risk by Bajaj Allianz General Insurance Company Limited. The insurance\\nFor & on the behalf\\nBajaj Allianz General Insurance Company Ltd.\\n* Cheque/DD/PO receipt is valid subject to realisation of the instrument\\n cover for the risk shall be as per the terms and conditions of the Insurance Policy if and when issued.\\nAuthorized Signatory', 'Customer ID242509I001775263Invoice Number PI35641605\\n17/09/2025Invoice Date Policy No. 12-1805-0008046643-00\\nSupplier/ Details of InsurerRecipient/ Details of Insured\\nUnregisteredGSTIN GSTIN 24AABCB5730G1Z3\\nNA PANPAN AABCB5730G\\nBajaj Allianz General Insurance Company Ltd.NameNASIMBHAI LIYAKAT SHEKHName (Proposer)\\nAddress-1 Shop Nos.25 To 28, Mezzanine Floor,B 37 , Aksha Nagar , M G Road , Bardoli T Bardoli\\nD Surat Address-1\\n Address-2Address-2 Megh Mayur Plazaratan Baug,\\n(Customer Copy)\\nTAX INVOICE\\nAddress-3 Surat Dumas RoadsuratAddress-3\\n394601 395007Pin Code Pin Code\\nSURATSURAT CityCity\\nGUJARATStateState GUJARAT\\nPlace of\\nSupplyNON HNIClient Category 24 - GUJARAT\\nPremium\\n Amount(INR)  Description   Amount(INR)  Description\\n  Net Premium 3526\\n 0IGST(18%)\\n  Gross Premium 4160\\n 0IGST(12%)\\nReceipt Number: SYS-25-000008560751, SYS-25-\\n000008560751 Date: 17/09/2025, 17/09/2025 Premium Payer ID:\\n22284903 Float: NA; ** If Premium paid through Cheque, the', 'Gross Premium 4160\\n 0IGST(12%)\\nReceipt Number: SYS-25-000008560751, SYS-25-\\n000008560751 Date: 17/09/2025, 17/09/2025 Premium Payer ID:\\n22284903 Float: NA; ** If Premium paid through Cheque, the\\nPolicy is void ab-initio in case of dishonour of Cheque  317CGST(9%)\\n 317SGST/UTGST(9%)\\n 0SGST/UTGST(6%)\\n 0CGST(6%)\\nTotal Invoice Value (In figures) :4160\\nRupees Four Thousand One Hundred Sixty  OnlyTotal Invoice Value (In Words) :\\nNo reverse charge is payable on these services.Amount of Tax Subject to Reverse Charge:\\nServices Accounting Code: 997134 Motor vehicle insurance services.\\nPrincipal Location:Bajaj Allianz House, Airport Road, Yerwada, Pune- 411006 PH-66026666\\nBajaj Allianz General Insurance Company Ltd.\\nFor & on the behalf\\nImportant Notes:\\n* The invoice is issued as per Section 31 of the CGST Act\\n* In case no GSTIN or incorrect GSTIN is provided by the Proposer at Proposal stage, Bajaj Allianz General Insurance Company Ltd shall not be responsible for any Input', '* In case no GSTIN or incorrect GSTIN is provided by the Proposer at Proposal stage, Bajaj Allianz General Insurance Company Ltd shall not be responsible for any Input\\nTax Credit losses and no subsequent revision of invoice will be undertaken\\n* As per the GST regulations, the amount of GST will not be refunded if the policy / endorsement is cancelled after 30th September of the next financial year\\nAuthorized Signatory\\nThis is a digitally signed document and hence no physical signature is required', 'Contact our 24-Hour Call\\n \\n1800-209-5858\\n \\nwww.bajajallianz.com\\nbagichelp@bajajallianz.co.in\\n \\nhttp://www.facebook.com/BajajAllianz\\n \\nhttp://twitter.com/BajajAllianz\\n \\nwww.bit.do/bjazgi\\n \\nBajaj Allianz General Insurance Co.Ltd. Bajaj Allianz House,Airport Road,Yerwada,Pune -411006.IRDA Reg.No:113 CIN:U66010PN2000PLC015329\\nGive a Missed Call on 8080945060, SMS ‘WORRY’ to 575758', 'Professional  Reference  Letter  \\n \\nTo  Whom  It  May  Concern,  \\nI  am  writing  to  provide  a  professional  reference  for  Smit  Dhimar ,  with  whom  I  had  the  \\nopportunity\\n \\nto\\n \\nwork\\n \\nclosely\\n \\non\\n \\na\\n \\nproject\\n \\nat\\n \\ndevx\\n \\ncommerce\\n.\\n \\nDuring\\n \\nour\\n \\ntime\\n \\nworking\\n \\ntogether,\\n \\nSmit\\n \\ncontributed\\n \\nto\\n \\nthe\\n \\nPersonalizer\\n \\nfeature\\n \\nof\\n \\nthe\\n \\nCello\\n \\nproject\\n,\\n \\nwhere\\n \\nwe\\n \\nprimarily\\n \\nworked\\n \\nwith\\n \\ntechnologies\\n \\nsuch\\n \\nas\\n \\nAWS,\\n \\nTerraform,\\n \\nand\\n \\nReact\\n.\\n \\nSmit  showed  a  strong  understanding  of  technical  concepts  and  was  quick  to  grasp  the  \\nworkflow\\n \\nof\\n \\nthe\\n \\nproject.\\n \\nHe\\n \\nwas\\n \\nproactive\\n \\nin\\n \\nlearning\\n \\nnew\\n \\ntools,\\n \\nasked\\n \\nthe\\n \\nright\\n \\nquestions,\\n \\nand\\n \\nconsistently\\n \\ndelivered\\n \\nhis\\n \\ntasks\\n \\nresponsibly.\\n \\nHis\\n \\nenthusiasm\\n \\nfor\\n \\nproblem-solving\\n \\nand\\n \\nhis\\n \\nwillingness\\n \\nto\\n \\ncollaborate\\n \\neffectively\\n \\nmade\\n \\nhim\\n \\na\\n \\nvaluable\\n \\npart\\n \\nof\\n \\nthe\\n \\nteam.', 'delivered\\n \\nhis\\n \\ntasks\\n \\nresponsibly.\\n \\nHis\\n \\nenthusiasm\\n \\nfor\\n \\nproblem-solving\\n \\nand\\n \\nhis\\n \\nwillingness\\n \\nto\\n \\ncollaborate\\n \\neffectively\\n \\nmade\\n \\nhim\\n \\na\\n \\nvaluable\\n \\npart\\n \\nof\\n \\nthe\\n \\nteam.\\n \\nI  am  confident  that  Smit  will  continue  to  grow  and  excel  in  his  future  roles.  Please  feel  free  to  \\ncontact\\n \\nme\\n \\nif\\n \\nyou\\n \\nrequire\\n \\nany\\n \\nfurther\\n \\ndetails\\n \\nabout\\n \\nour\\n \\nwork\\n \\ntogether.\\n \\nBest  regards,  \\n \\n \\nChirag\\n \\nParmar\\n \\nSDE-2,\\n \\ndevx\\n \\ncommerce\\n \\nEmail:\\n \\nchirag@devxconsultancy.com\\n \\nPhone:\\n \\n+91\\n8153843001']\n",
      "documents added\n"
     ]
    }
   ],
   "source": [
    "vector_store.add_documents(chunks, generated_embeddings)"
   ]
  },
  {
   "cell_type": "code",
   "execution_count": 12,
   "id": "42c70a1b",
   "metadata": {},
   "outputs": [],
   "source": [
    "# rag retrieval pipeline\n",
    "class RAGretriever:\n",
    "    def __init__(self, vector_store: VectorStore, embedding_manager: EmbeddingManager):\n",
    "        self.vector_store = vector_store\n",
    "        self.embedding_manager = embedding_manager\n",
    "\n",
    "    def retrivel(self, query: str, top_k: int = 5, score_threshold: float= 0.0) -> List[Dict[str, Any]]:\n",
    "        query_embedding = self.embedding_manager.generate_embeddings([query])[0]\n",
    "\n",
    "        try:\n",
    "            results = self.vector_store.collection.query(\n",
    "                query_embeddings= [query_embedding.tolist()],\n",
    "                n_results= top_k\n",
    "            )\n",
    "            retrieved_documents = []\n",
    "            print(\"results\" , results)\n",
    "            if results['documents'] and results['documents'][0]:\n",
    "                documents = results['documents'][0]\n",
    "                metadatas = results['metadatas'][0]\n",
    "                distances = results['distances'][0]\n",
    "                ids= results['ids'][0]\n",
    "\n",
    "                for i, (doc_id, document, metadata, distance) in enumerate(zip(ids, documents, metadatas, distances)):\n",
    "                    # print(f\"i: {i} \\ndoc_id: {doc_id} \\nmetadata: {metadata} \\ndocument: {document}\\ndistance: {distance}\")\n",
    "                    similarity_score = 1 - distance\n",
    "                    print(distance, similarity_score)\n",
    "                    # if similarity_score >= score_threshold:\n",
    "                    retrieved_documents.append({\n",
    "                        'id': doc_id,\n",
    "                        'content': document,\n",
    "                        'metadata': metadata,\n",
    "                        'similarity_score': similarity_score,\n",
    "                        'distance': distance,\n",
    "                        'rank':i\n",
    "                    })\n",
    "\n",
    "                print(f\"retrieved {len(retrieved_documents)} results\")\n",
    "            else:\n",
    "                print(\"No documents found\")\n",
    "\n",
    "            return retrieved_documents;\n",
    "        except Exception as e: \n",
    "            print(f\"Erorr: {e}\")\n",
    "            return []\n",
    "\n"
   ]
  },
  {
   "cell_type": "code",
   "execution_count": 13,
   "id": "d58fb82e",
   "metadata": {},
   "outputs": [
    {
     "name": "stdout",
     "output_type": "stream",
     "text": [
      "Generating embeddings\n"
     ]
    },
    {
     "name": "stderr",
     "output_type": "stream",
     "text": [
      "Batches: 100%|██████████| 1/1 [00:00<00:00, 58.54it/s]"
     ]
    },
    {
     "name": "stdout",
     "output_type": "stream",
     "text": [
      "Generated embeddings with shape: (1, 384)\n",
      "results {'ids': [['doc_d755d8d3_3', 'doc_4b00d399_29', 'doc_4665e81d_43']], 'embeddings': None, 'documents': [[\"Dear Pragneshkumar Rajubhai Nayka\\nWe wish to inform you that your contract under policy number '12-1805-0007923327-00'  will be based on the information and declaration given\\nby you through telephonic conversation / email / web-inputs / TAB/CSC Centres or other means which would be considered as the final proposal,\\nthe transcript of which is as follows:\\nYou are requested to reconfirm the same. In case of any disagreement or objection or any changes with respect to information mentioned below,\\nwe request you to please revert back within a period of 15 days from date of your receipt of this, failing which it will be deemed that you are\\nsatisfied with the correctness of the details mentioned below. Kindly note that as the contents and declarations contained in this transcript is the\\nbasis on which we have issued the policy to you, we advise you to please ensure that you have provided/disclosed and or not withheld any\", \"Dear Nasimbhai Liyakat Shekh\\nWe wish to inform you that your contract under policy number '12-1805-0008046643-00'  will be based on the information and declaration given\\nby you through telephonic conversation / email / web-inputs / TAB/CSC Centres or other means which would be considered as the final proposal,\\nthe transcript of which is as follows:\\nYou are requested to reconfirm the same. In case of any disagreement or objection or any changes with respect to information mentioned below,\\nwe request you to please revert back within a period of 15 days from date of your receipt of this, failing which it will be deemed that you are\\nsatisfied with the correctness of the details mentioned below. Kindly note that as the contents and declarations contained in this transcript is the\\nbasis on which we have issued the policy to you, we advise you to please ensure that you have provided/disclosed and or not withheld any\", 'Authorized Signatory\\nPrinted, Signed and Executed at Pune\\nThis document is digitally signed, hence counter signature / stamp is not required.\\nFor & On Behalf of Bajaj Allianz General Insurance Company Ltd.\\n \\nRs 0.50\\nStamp Duty\\nPrincipal Location: 2202 |Service Accounting Code: 997134 Motor vehicle insurance services. No reverse charge is payable on these services.\\nConsolidated stamp duty Rs.0.50 paid for insurance policy stamps Challan No.MH015538899202425M DEFACED NO 0008972915202425 Order\\nNo.CSD/19/2025/816 Order Dated 20-FEB-25 Defaced Dated 01-MAR-25 having validity from 01-MAR-25 to 28-FEB-27 of General Stamp Office\\nMumbai,India.\\nLatest Schedule – 17-09-2025 06:23:32 PM - - Module- PARTNERPORTAL\\nIt is mandatory to keep your policy with updated contact (Mobile No., Email ID and PAN Card) and bank account details, to process\\nany of your service requests faster and hassle-free in future.']], 'uris': None, 'included': ['metadatas', 'documents', 'distances'], 'data': None, 'metadatas': [[{'creationdate': '2025-09-01T15:59:15+05:30', 'creator': 'JasperReports Library version 5.6.0', 'total_pages': 9, 'source': '..\\\\data\\\\pdf\\\\Policy_schedule_doc - 2025-09-01T155919.522.pdf', 'page_label': '2', 'doc_index': 3, 'content_length': 927, 'moddate': '2025-09-01T15:59:15+05:30', 'page': 1, 'producer': 'iText 2.1.7 by 1T3XT; modified using iText® 5.2.1 ©2000-2012 1T3XT BVBA'}, {'creator': 'JasperReports Library version 5.6.0', 'moddate': '2025-09-17T18:23:33+05:30', 'creationdate': '2025-09-17T18:23:33+05:30', 'doc_index': 29, 'total_pages': 9, 'source': '..\\\\data\\\\pdf\\\\Policy_schedule_doc - 2025-09-17T182353.824.pdf', 'content_length': 922, 'page_label': '2', 'page': 1, 'producer': 'iText 2.1.7 by 1T3XT; modified using iText® 5.2.1 ©2000-2012 1T3XT BVBA'}, {'creator': 'JasperReports Library version 5.6.0', 'content_length': 902, 'creationdate': '2025-09-17T18:23:33+05:30', 'source': '..\\\\data\\\\pdf\\\\Policy_schedule_doc - 2025-09-17T182353.824.pdf', 'page': 5, 'moddate': '2025-09-17T18:23:33+05:30', 'doc_index': 43, 'page_label': '6', 'total_pages': 9, 'producer': 'iText 2.1.7 by 1T3XT; modified using iText® 5.2.1 ©2000-2012 1T3XT BVBA'}]], 'distances': [[1.4379138946533203, 1.4828790426254272, 1.4959672689437866]]}\n",
      "1.4379138946533203 -0.4379138946533203\n",
      "1.4828790426254272 -0.48287904262542725\n",
      "1.4959672689437866 -0.4959672689437866\n",
      "retrieved 3 results\n"
     ]
    },
    {
     "name": "stderr",
     "output_type": "stream",
     "text": [
      "\n"
     ]
    },
    {
     "data": {
      "text/plain": [
       "[{'id': 'doc_d755d8d3_3',\n",
       "  'content': \"Dear Pragneshkumar Rajubhai Nayka\\nWe wish to inform you that your contract under policy number '12-1805-0007923327-00'  will be based on the information and declaration given\\nby you through telephonic conversation / email / web-inputs / TAB/CSC Centres or other means which would be considered as the final proposal,\\nthe transcript of which is as follows:\\nYou are requested to reconfirm the same. In case of any disagreement or objection or any changes with respect to information mentioned below,\\nwe request you to please revert back within a period of 15 days from date of your receipt of this, failing which it will be deemed that you are\\nsatisfied with the correctness of the details mentioned below. Kindly note that as the contents and declarations contained in this transcript is the\\nbasis on which we have issued the policy to you, we advise you to please ensure that you have provided/disclosed and or not withheld any\",\n",
       "  'metadata': {'creationdate': '2025-09-01T15:59:15+05:30',\n",
       "   'creator': 'JasperReports Library version 5.6.0',\n",
       "   'total_pages': 9,\n",
       "   'source': '..\\\\data\\\\pdf\\\\Policy_schedule_doc - 2025-09-01T155919.522.pdf',\n",
       "   'page_label': '2',\n",
       "   'doc_index': 3,\n",
       "   'content_length': 927,\n",
       "   'moddate': '2025-09-01T15:59:15+05:30',\n",
       "   'page': 1,\n",
       "   'producer': 'iText 2.1.7 by 1T3XT; modified using iText® 5.2.1 ©2000-2012 1T3XT BVBA'},\n",
       "  'similarity_score': -0.4379138946533203,\n",
       "  'distance': 1.4379138946533203,\n",
       "  'rank': 0},\n",
       " {'id': 'doc_4b00d399_29',\n",
       "  'content': \"Dear Nasimbhai Liyakat Shekh\\nWe wish to inform you that your contract under policy number '12-1805-0008046643-00'  will be based on the information and declaration given\\nby you through telephonic conversation / email / web-inputs / TAB/CSC Centres or other means which would be considered as the final proposal,\\nthe transcript of which is as follows:\\nYou are requested to reconfirm the same. In case of any disagreement or objection or any changes with respect to information mentioned below,\\nwe request you to please revert back within a period of 15 days from date of your receipt of this, failing which it will be deemed that you are\\nsatisfied with the correctness of the details mentioned below. Kindly note that as the contents and declarations contained in this transcript is the\\nbasis on which we have issued the policy to you, we advise you to please ensure that you have provided/disclosed and or not withheld any\",\n",
       "  'metadata': {'creator': 'JasperReports Library version 5.6.0',\n",
       "   'moddate': '2025-09-17T18:23:33+05:30',\n",
       "   'creationdate': '2025-09-17T18:23:33+05:30',\n",
       "   'doc_index': 29,\n",
       "   'total_pages': 9,\n",
       "   'source': '..\\\\data\\\\pdf\\\\Policy_schedule_doc - 2025-09-17T182353.824.pdf',\n",
       "   'content_length': 922,\n",
       "   'page_label': '2',\n",
       "   'page': 1,\n",
       "   'producer': 'iText 2.1.7 by 1T3XT; modified using iText® 5.2.1 ©2000-2012 1T3XT BVBA'},\n",
       "  'similarity_score': -0.48287904262542725,\n",
       "  'distance': 1.4828790426254272,\n",
       "  'rank': 1},\n",
       " {'id': 'doc_4665e81d_43',\n",
       "  'content': 'Authorized Signatory\\nPrinted, Signed and Executed at Pune\\nThis document is digitally signed, hence counter signature / stamp is not required.\\nFor & On Behalf of Bajaj Allianz General Insurance Company Ltd.\\n \\nRs 0.50\\nStamp Duty\\nPrincipal Location: 2202 |Service Accounting Code: 997134 Motor vehicle insurance services. No reverse charge is payable on these services.\\nConsolidated stamp duty Rs.0.50 paid for insurance policy stamps Challan No.MH015538899202425M DEFACED NO 0008972915202425 Order\\nNo.CSD/19/2025/816 Order Dated 20-FEB-25 Defaced Dated 01-MAR-25 having validity from 01-MAR-25 to 28-FEB-27 of General Stamp Office\\nMumbai,India.\\nLatest Schedule – 17-09-2025 06:23:32 PM - - Module- PARTNERPORTAL\\nIt is mandatory to keep your policy with updated contact (Mobile No., Email ID and PAN Card) and bank account details, to process\\nany of your service requests faster and hassle-free in future.',\n",
       "  'metadata': {'creator': 'JasperReports Library version 5.6.0',\n",
       "   'content_length': 902,\n",
       "   'creationdate': '2025-09-17T18:23:33+05:30',\n",
       "   'source': '..\\\\data\\\\pdf\\\\Policy_schedule_doc - 2025-09-17T182353.824.pdf',\n",
       "   'page': 5,\n",
       "   'moddate': '2025-09-17T18:23:33+05:30',\n",
       "   'doc_index': 43,\n",
       "   'page_label': '6',\n",
       "   'total_pages': 9,\n",
       "   'producer': 'iText 2.1.7 by 1T3XT; modified using iText® 5.2.1 ©2000-2012 1T3XT BVBA'},\n",
       "  'similarity_score': -0.4959672689437866,\n",
       "  'distance': 1.4959672689437866,\n",
       "  'rank': 2}]"
      ]
     },
     "execution_count": 13,
     "metadata": {},
     "output_type": "execute_result"
    }
   ],
   "source": [
    "rag_retriever = RAGretriever(vector_store, embedding_manager)\n",
    "result = rag_retriever.retrivel(\"when does poliicy expire\", 3, 0.0 )\n",
    "result"
   ]
  },
  {
   "cell_type": "code",
   "execution_count": null,
   "id": "2454fc5f",
   "metadata": {},
   "outputs": [],
   "source": []
  },
  {
   "cell_type": "code",
   "execution_count": null,
   "id": "e5c4a99e",
   "metadata": {},
   "outputs": [],
   "source": []
  },
  {
   "cell_type": "code",
   "execution_count": null,
   "id": "3f386879",
   "metadata": {},
   "outputs": [],
   "source": []
  }
 ],
 "metadata": {
  "kernelspec": {
   "display_name": "rag",
   "language": "python",
   "name": "python3"
  },
  "language_info": {
   "codemirror_mode": {
    "name": "ipython",
    "version": 3
   },
   "file_extension": ".py",
   "mimetype": "text/x-python",
   "name": "python",
   "nbconvert_exporter": "python",
   "pygments_lexer": "ipython3",
   "version": "3.12.10"
  }
 },
 "nbformat": 4,
 "nbformat_minor": 5
}
