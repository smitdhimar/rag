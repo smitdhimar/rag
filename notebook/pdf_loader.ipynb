{
 "cells": [
  {
   "cell_type": "markdown",
   "id": "791e4209",
   "metadata": {},
   "source": [
    "Load all pdfs with the document and directory load"
   ]
  },
  {
   "cell_type": "code",
   "execution_count": 2,
   "id": "0684d291",
   "metadata": {},
   "outputs": [
    {
     "name": "stderr",
     "output_type": "stream",
     "text": [
      "c:\\Users\\91875\\Documents\\projects\\rag\\.venv\\Lib\\site-packages\\tqdm\\auto.py:21: TqdmWarning: IProgress not found. Please update jupyter and ipywidgets. See https://ipywidgets.readthedocs.io/en/stable/user_install.html\n",
      "  from .autonotebook import tqdm as notebook_tqdm\n"
     ]
    }
   ],
   "source": [
    "import os\n",
    "from langchain_community.document_loaders import PyMuPDFLoader , DirectoryLoader\n",
    "\n",
    "def load_directory(directory_path:str):\n",
    "    dir_loader = DirectoryLoader(\n",
    "        directory_path,\n",
    "        glob=\"**/*.pdf\",\n",
    "        loader_cls= PyMuPDFLoader,\n",
    "        show_progress=False\n",
    "    )\n",
    "    directory_documents = dir_loader.load()\n",
    "    return directory_documents\n",
    "\n",
    "directory_documents = load_directory(\"../data/pdf\")\n"
   ]
  },
  {
   "cell_type": "markdown",
   "id": "837ea5fa",
   "metadata": {},
   "source": [
    "Add splitting logic"
   ]
  },
  {
   "cell_type": "code",
   "execution_count": 3,
   "id": "9f88bc9b",
   "metadata": {},
   "outputs": [
    {
     "name": "stdout",
     "output_type": "stream",
     "text": [
      "Split 19 documents into 103 chunks\n"
     ]
    }
   ],
   "source": [
    "from langchain.text_splitter import RecursiveCharacterTextSplitter\n",
    "from pathlib import Path\n",
    "\n",
    "def split_documents(directory_documents, chunk_size = 500 , chunk_overlap =100):\n",
    "    text_splitter = RecursiveCharacterTextSplitter(\n",
    "        chunk_size = chunk_size,\n",
    "        chunk_overlap = chunk_overlap,\n",
    "        length_function = len,\n",
    "        separators= [\"\\n\\n\", \"\\n\"]\n",
    "    )\n",
    "\n",
    "    split_docs = text_splitter.split_documents(directory_documents)\n",
    "    print(f\"Split {len(directory_documents)} documents into {len(split_docs)} chunks\")\n",
    "\n",
    "    # if(split_docs):\n",
    "    #     print(\"logging...\")\n",
    "    #     print(split_docs[0].metadata)\n",
    "    #     print(split_docs[0].page_content[:100])\n",
    "    return split_docs\n",
    "\n",
    "\n",
    "chunks = split_documents(directory_documents, 500, 100)\n",
    "\n"
   ]
  },
  {
   "cell_type": "markdown",
   "id": "d6b8f432",
   "metadata": {},
   "source": [
    "chunking done. "
   ]
  },
  {
   "cell_type": "markdown",
   "id": "6acf36e1",
   "metadata": {},
   "source": [
    "embeddings \n",
    "convert chunks to embeddings"
   ]
  },
  {
   "cell_type": "code",
   "execution_count": 4,
   "id": "97cfda34",
   "metadata": {},
   "outputs": [],
   "source": [
    "# imports\n",
    "import numpy as np \n",
    "from sentence_transformers import SentenceTransformer\n",
    "import chromadb\n",
    "from chromadb.config import Settings\n",
    "import uuid\n",
    "from typing import List, Tuple, Dict, Any\n",
    "from sklearn.metrics.pairwise import cosine_similarity\n"
   ]
  },
  {
   "cell_type": "code",
   "execution_count": 5,
   "id": "26a3210f",
   "metadata": {},
   "outputs": [],
   "source": [
    "# create embeddings \n",
    "# class structure\n",
    "class EmbeddingManager:\n",
    "    def __init__(self, model_name: str= \"all-MiniLM-L6-v2\"):\n",
    "        self.model_name = model_name\n",
    "        self.model = None\n",
    "        self._load_model()\n",
    "\n",
    "    def _load_model(self):\n",
    "        try:\n",
    "            print(f\"loading embedding model: {self.model_name}\")\n",
    "            self.model = SentenceTransformer(self.model_name)\n",
    "            print(f\"Model loaded successfully, dimension of embeddings: {self.model.get_sentence_embedding_dimension()}\")\n",
    "        except Exception as e:\n",
    "            print(f\"Error loading the model {self.model_name}: {e}\");\n",
    "            raise\n",
    "    def generate_embeddings(self, texts: List[str])-> np.ndarray:\n",
    "        if not self.model:\n",
    "            raise ValueError(\"Model not loaded yet\")\n",
    "        print(\"Generating embeddings\")\n",
    "        embeddings = self.model.encode(texts, show_progress_bar= True)\n",
    "        print(f\"Generated embeddings with shape: {embeddings.shape}\")\n",
    "        return embeddings"
   ]
  },
  {
   "cell_type": "code",
   "execution_count": 10,
   "id": "e0bace48",
   "metadata": {},
   "outputs": [],
   "source": [
    "# Vector Store\n",
    "class VectorStore:\n",
    "    # init method ( self , name of the collection in which the vectors are to be stored, persistent location of directory where the vector store is intended to be stored)\n",
    "    def __init__(self, collection_name: str = 'vectors-store' , persistent_directory: str = '../vector_store'):\n",
    "        self.collection_name = collection_name\n",
    "        self.persistent_directory = persistent_directory\n",
    "        self.client = None\n",
    "        self.collection = None\n",
    "        self._initialize_store()\n",
    "\n",
    "    def _initialize_store(self):\n",
    "        try:\n",
    "            os.makedirs(self.persistent_directory, exist_ok=True)\n",
    "            self.client = chromadb.PersistentClient(path = self.persistent_directory)\n",
    "\n",
    "            # get or create collection\n",
    "            self.collection = self.client.get_or_create_collection(\n",
    "                name = self.collection_name,\n",
    "                metadata={\n",
    "                    \"description\": \"PDF document embeddings for RAG\"\n",
    "                }\n",
    "            )\n",
    "            print(\"Vector store initialized\")\n",
    "            print(f\"existing documents in collection: {self.collection.count()}\")\n",
    "\n",
    "        except Exception as e:\n",
    "            print(f\"Error initializing the vector store: {e}\")\n",
    "            raise\n",
    "\n",
    "    def add_documents(self, documents: List[any], embeddings: np.ndarray):\n",
    "        # data for chroma db \n",
    "        ids = []\n",
    "        metadatas = []\n",
    "        document_text = []\n",
    "        embedding_list = []\n",
    "        print(zip(documents, embeddings))\n",
    "        print(enumerate(zip(documents, embeddings)))\n",
    "        for i, (doc, embedding) in enumerate(zip(documents, embeddings)):\n",
    "            doc_id = f\"doc_{uuid.uuid4().hex[:8]}_{i}\"\n",
    "            ids.append(doc_id)\n",
    "\n",
    "            metadata = dict(doc.metadata)\n",
    "            metadata['doc_index'] = i \n",
    "            metadata[\"content_length\"] = len(doc.page_content)\n",
    "\n",
    "            metadatas.append(metadata)\n",
    "\n",
    "            document_text.append(doc.page_content)\n",
    "            embedding_list.append(embedding.tolist())\n",
    "            \n",
    "        # add to collection \n",
    "        try:\n",
    "            self.collection.add(\n",
    "                ids= ids,\n",
    "                embeddings= embedding_list,\n",
    "                metadatas= metadatas,\n",
    "                documents= document_text\n",
    "            )\n",
    "            print(\"documents added\")\n",
    "        except Exception as e:\n",
    "            print(\"There some error \",e )\n",
    "            raise\n",
    "\n"
   ]
  },
  {
   "cell_type": "code",
   "execution_count": 11,
   "id": "2364ad92",
   "metadata": {},
   "outputs": [
    {
     "name": "stdout",
     "output_type": "stream",
     "text": [
      "loading embedding model: all-MiniLM-L6-v2\n",
      "Model loaded successfully, dimension of embeddings: 384\n",
      "Generating embeddings\n"
     ]
    },
    {
     "name": "stderr",
     "output_type": "stream",
     "text": [
      "Batches: 100%|██████████| 4/4 [00:03<00:00,  1.30it/s]"
     ]
    },
    {
     "name": "stdout",
     "output_type": "stream",
     "text": [
      "Generated embeddings with shape: (103, 384)\n"
     ]
    },
    {
     "name": "stderr",
     "output_type": "stream",
     "text": [
      "\n"
     ]
    }
   ],
   "source": [
    "# get text from chunks \n",
    "texts = [ doc.page_content for doc in chunks]\n",
    "embedding_manager = EmbeddingManager()\n",
    "generated_embeddings = embedding_manager.generate_embeddings(texts)\n",
    "\n"
   ]
  },
  {
   "cell_type": "code",
   "execution_count": 12,
   "id": "fa1c85ed",
   "metadata": {},
   "outputs": [
    {
     "name": "stdout",
     "output_type": "stream",
     "text": [
      "Vector store initialized\n",
      "existing documents in collection: 0\n"
     ]
    }
   ],
   "source": [
    "\n",
    "# store in the vector database\n",
    "\n",
    "vector_store = VectorStore()\n"
   ]
  },
  {
   "cell_type": "code",
   "execution_count": 14,
   "id": "f1c3afa0",
   "metadata": {},
   "outputs": [
    {
     "name": "stdout",
     "output_type": "stream",
     "text": [
      "<zip object at 0x000002E0C1123700>\n",
      "<enumerate object at 0x000002E0ADC69940>\n",
      "documents added\n"
     ]
    }
   ],
   "source": [
    "vector_store.add_documents(chunks, generated_embeddings)"
   ]
  },
  {
   "cell_type": "code",
   "execution_count": null,
   "id": "42c70a1b",
   "metadata": {},
   "outputs": [],
   "source": [
    "# rag retrieval pipeline\n",
    "class RAGretriever:\n",
    "    def __init__(self, vector_store: VectorStore, embedding_manager: EmbeddingManager):\n",
    "        self.vector_store = vector_store\n",
    "        self.embedding_manager = embedding_manager\n",
    "\n",
    "    def retrivel(self, query: str, top_k: int = 5, score_threshold: float= 0.0) -> List[Dict[str, Any]]:\n",
    "        query_embedding = self.embedding_manager.generate_embeddings([query])[0]\n",
    "\n",
    "        try:\n",
    "            results = self.vector_store.collection.query(\n",
    "                query_embeddings= [query_embedding.tolist()],\n",
    "                n_results= top_k\n",
    "            )\n",
    "            retrieved_documents = []\n",
    "            print(results)\n",
    "            if results['documents'] and results['documents'][0]:\n",
    "                documents = results['documents'][0]\n",
    "                metadatas = results['metadatas'][0]\n",
    "                distances = results['distances'][0]\n",
    "                ids= results['ids']\n",
    "\n",
    "                for i, (doc_id, document, metadata, distance) in enumerate(zip(ids, documents, metadatas, distances)):\n",
    "                    # print(f\"i: {i} \\ndoc_id: {doc_id} \\nmetadata: {metadata} \\ndocument: {document}\\ndistance: {distance}\")\n",
    "                    similarity_score = 1 - distance\n",
    "                    print(distance, similarity_score)\n",
    "                    # if similarity_score >= score_threshold:\n",
    "                    retrieved_documents.append({\n",
    "                        'id': doc_id,\n",
    "                        'content': document,\n",
    "                        'metadata': metadata,\n",
    "                        'similarity_score': similarity_score,\n",
    "                        'distance': distance,\n",
    "                        'rank':i\n",
    "                    })\n",
    "\n",
    "                print(f\"retrieved {len(retrieved_documents)} results\")\n",
    "            else:\n",
    "                print(\"No documents found\")\n",
    "\n",
    "            return retrieved_documents;\n",
    "        except Exception as e: \n",
    "            print(f\"Erorr: {e}\")\n",
    "            return []\n",
    "\n"
   ]
  },
  {
   "cell_type": "code",
   "execution_count": 63,
   "id": "d58fb82e",
   "metadata": {},
   "outputs": [
    {
     "name": "stdout",
     "output_type": "stream",
     "text": [
      "Generating embeddings\n"
     ]
    },
    {
     "name": "stderr",
     "output_type": "stream",
     "text": [
      "Batches: 100%|██████████| 1/1 [00:00<00:00, 34.84it/s]"
     ]
    },
    {
     "name": "stdout",
     "output_type": "stream",
     "text": [
      "Generated embeddings with shape: (1, 384)\n",
      "{'ids': [['doc_1dc0ba7b_85', 'doc_4414fdd2_85', 'doc_6087418b_35']], 'embeddings': None, 'documents': [['No.CSD/19/2025/816 Order Dated 20-FEB-25 Defaced Dated 01-MAR-25 having validity from 01-MAR-25 to 28-FEB-27 of General Stamp Office\\nMumbai,India.\\nLatest Schedule – 17-09-2025 06:23:32 PM - - Module- PARTNERPORTAL\\nIt is mandatory to keep your policy with updated contact (Mobile No., Email ID and PAN Card) and bank account details, to process\\nany of your service requests faster and hassle-free in future.', 'No.CSD/19/2025/816 Order Dated 20-FEB-25 Defaced Dated 01-MAR-25 having validity from 01-MAR-25 to 28-FEB-27 of General Stamp Office\\nMumbai,India.\\nLatest Schedule – 17-09-2025 06:23:32 PM - - Module- PARTNERPORTAL\\nIt is mandatory to keep your policy with updated contact (Mobile No., Email ID and PAN Card) and bank account details, to process\\nany of your service requests faster and hassle-free in future.', 'No.CSD/19/2025/816 Order Dated 20-FEB-25 Defaced Dated 01-MAR-25 having validity from 01-MAR-25 to 28-FEB-27 of General Stamp Office\\nMumbai,India.\\nLatest Schedule – 01-09-2025 03:59:14 PM - - Module- PARTNERPORTAL\\nIt is mandatory to keep your policy with updated contact (Mobile No., Email ID and PAN Card) and bank account details, to process\\nany of your service requests faster and hassle-free in future.']], 'uris': None, 'included': ['metadatas', 'documents', 'distances'], 'data': None, 'metadatas': [[{'page': 5, 'source': '..\\\\data\\\\pdf\\\\Policy_schedule_doc - 2025-09-17T182353.824.pdf', 'modDate': \"D:20250917182333+05'30'\", 'title': '', 'doc_index': 85, 'trapped': '', 'content_length': 406, 'total_pages': 9, 'file_path': '..\\\\data\\\\pdf\\\\Policy_schedule_doc - 2025-09-17T182353.824.pdf', 'creationDate': \"D:20250917182333+05'30'\", 'producer': 'iText 2.1.7 by 1T3XT; modified using iText® 5.2.1 ©2000-2012 1T3XT BVBA', 'keywords': '', 'creator': 'JasperReports Library version 5.6.0', 'creationdate': '2025-09-17T18:23:33+05:30', 'moddate': '2025-09-17T18:23:33+05:30', 'subject': '', 'format': 'PDF 1.4', 'author': ''}, {'trapped': '', 'file_path': '..\\\\data\\\\pdf\\\\Policy_schedule_doc - 2025-09-17T182353.824.pdf', 'creator': 'JasperReports Library version 5.6.0', 'page': 5, 'title': '', 'author': '', 'keywords': '', 'total_pages': 9, 'content_length': 406, 'format': 'PDF 1.4', 'producer': 'iText 2.1.7 by 1T3XT; modified using iText® 5.2.1 ©2000-2012 1T3XT BVBA', 'moddate': '2025-09-17T18:23:33+05:30', 'subject': '', 'creationDate': \"D:20250917182333+05'30'\", 'creationdate': '2025-09-17T18:23:33+05:30', 'doc_index': 85, 'modDate': \"D:20250917182333+05'30'\", 'source': '..\\\\data\\\\pdf\\\\Policy_schedule_doc - 2025-09-17T182353.824.pdf'}, {'creator': 'JasperReports Library version 5.6.0', 'file_path': '..\\\\data\\\\pdf\\\\Policy_schedule_doc - 2025-09-01T155919.522.pdf', 'subject': '', 'creationdate': '2025-09-01T15:59:15+05:30', 'content_length': 406, 'author': '', 'keywords': '', 'page': 5, 'title': '', 'total_pages': 9, 'format': 'PDF 1.4', 'moddate': '2025-09-01T15:59:15+05:30', 'creationDate': \"D:20250901155915+05'30'\", 'trapped': '', 'source': '..\\\\data\\\\pdf\\\\Policy_schedule_doc - 2025-09-01T155919.522.pdf', 'producer': 'iText 2.1.7 by 1T3XT; modified using iText® 5.2.1 ©2000-2012 1T3XT BVBA', 'modDate': \"D:20250901155915+05'30'\", 'doc_index': 35}]], 'distances': [[1.154191493988037, 1.154191493988037, 1.157029390335083]]}\n",
      "1.154191493988037 -0.1541914939880371\n",
      "retrieved 0 results\n"
     ]
    },
    {
     "name": "stderr",
     "output_type": "stream",
     "text": [
      "\n"
     ]
    },
    {
     "data": {
      "text/plain": [
       "[]"
      ]
     },
     "execution_count": 63,
     "metadata": {},
     "output_type": "execute_result"
    }
   ],
   "source": [
    "rag_retriever = RAGretriever(vector_store, embedding_manager)\n",
    "result = rag_retriever.retrivel(\"when does poliicy expire\", 3, 0.0 )\n",
    "result"
   ]
  },
  {
   "cell_type": "code",
   "execution_count": null,
   "id": "2454fc5f",
   "metadata": {},
   "outputs": [],
   "source": []
  },
  {
   "cell_type": "code",
   "execution_count": null,
   "id": "e5c4a99e",
   "metadata": {},
   "outputs": [],
   "source": []
  },
  {
   "cell_type": "code",
   "execution_count": null,
   "id": "3f386879",
   "metadata": {},
   "outputs": [],
   "source": []
  }
 ],
 "metadata": {
  "kernelspec": {
   "display_name": "rag",
   "language": "python",
   "name": "python3"
  },
  "language_info": {
   "codemirror_mode": {
    "name": "ipython",
    "version": 3
   },
   "file_extension": ".py",
   "mimetype": "text/x-python",
   "name": "python",
   "nbconvert_exporter": "python",
   "pygments_lexer": "ipython3",
   "version": "3.12.10"
  }
 },
 "nbformat": 4,
 "nbformat_minor": 5
}
