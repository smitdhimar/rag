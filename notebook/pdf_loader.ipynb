{
 "cells": [
  {
   "cell_type": "markdown",
   "id": "791e4209",
   "metadata": {},
   "source": [
    "Load all pdfs with the document and directory load"
   ]
  },
  {
   "cell_type": "code",
   "execution_count": 4,
   "id": "0684d291",
   "metadata": {},
   "outputs": [],
   "source": [
    "import os\n",
    "from langchain_community.document_loaders import PyMuPDFLoader, PyPDFLoader , DirectoryLoader\n",
    "\n",
    "def load_directory(directory_path:str):\n",
    "    dir_loader = DirectoryLoader(\n",
    "        directory_path,\n",
    "        glob=\"**/*.pdf\",\n",
    "        loader_cls= PyPDFLoader,\n",
    "        show_progress=False\n",
    "    )\n",
    "    \n",
    "    directory_documents = dir_loader.load()\n",
    "    return directory_documents\n",
    "\n",
    "directory_documents = load_directory(\"../data/pdf\")\n"
   ]
  },
  {
   "cell_type": "markdown",
   "id": "837ea5fa",
   "metadata": {},
   "source": [
    "Add splitting logic"
   ]
  },
  {
   "cell_type": "code",
   "execution_count": 5,
   "id": "9f88bc9b",
   "metadata": {},
   "outputs": [
    {
     "name": "stdout",
     "output_type": "stream",
     "text": [
      "Split 19 documents into 54 chunks\n"
     ]
    },
    {
     "data": {
      "text/plain": [
       "Document(metadata={'producer': 'iText 2.1.7 by 1T3XT; modified using iText® 5.2.1 ©2000-2012 1T3XT BVBA', 'creator': 'JasperReports Library version 5.6.0', 'creationdate': '2025-09-01T15:59:15+05:30', 'moddate': '2025-09-01T15:59:15+05:30', 'source': '..\\\\data\\\\pdf\\\\Policy_schedule_doc - 2025-09-01T155919.522.pdf', 'total_pages': 9, 'page': 0, 'page_label': '1'}, page_content=\"Welcome to Bajaj Allianz Family\\n BARDOLI(VSO)-Shop Nos.25 To 28, Mezzanine Floor, , Megh Mayur Plazaratan\\nBaug, , Surat Dumas Roadsurat, Surat, Gujarat, INDIA, 395007, 9999999999\\nPolicy issuing office and correspondence address for communication by\\npolicyholder for claim, service request, notice, summons, etc.:\\n   Insured Name Pragneshkumar Rajubhai Nayka  Policy Number  12-1805-0007923327-00\\nName: Pragneshkumar Rajubhai Nayka\\nAddress:\\nLine 1: Parsigali Faliyu , Boriya T Mahuva D Surat\\nCity: Surat, State: Gujarat\\nPostcode: 395620\\nCustomer ID: PI35470101\\nLine 2:   ,\\nDear Pragneshkumar Rajubhai Nayka,\\nWe thank you for choosing Bajaj Allianz for your Insurance needs. We are one of India's leading general insurance companies with iAAA rating\\nfrom ICRA for the last ten consecutive years indicating the company's high claims paying ability and fundamentally strong position in the industry.\")"
      ]
     },
     "execution_count": 5,
     "metadata": {},
     "output_type": "execute_result"
    }
   ],
   "source": [
    "from langchain.text_splitter import RecursiveCharacterTextSplitter\n",
    "from pathlib import Path\n",
    "\n",
    "def split_documents(directory_documents, chunk_size = 1000 , chunk_overlap = 200):\n",
    "    text_splitter = RecursiveCharacterTextSplitter(\n",
    "        chunk_size = chunk_size,\n",
    "        chunk_overlap = chunk_overlap,\n",
    "        length_function = len,\n",
    "        separators= [\"\\n\\n\", \"\\n\"]\n",
    "    )\n",
    "\n",
    "    split_docs = text_splitter.split_documents(directory_documents)\n",
    "    print(f\"Split {len(directory_documents)} documents into {len(split_docs)} chunks\")\n",
    "    return split_docs\n",
    "\n",
    "\n",
    "chunks = split_documents(directory_documents, 1000, 200)\n",
    "chunks[0]\n"
   ]
  },
  {
   "cell_type": "markdown",
   "id": "d6b8f432",
   "metadata": {},
   "source": [
    "chunking done. "
   ]
  },
  {
   "cell_type": "markdown",
   "id": "6acf36e1",
   "metadata": {},
   "source": [
    "embeddings \n",
    "convert chunks to embeddings"
   ]
  },
  {
   "cell_type": "code",
   "execution_count": 6,
   "id": "97cfda34",
   "metadata": {},
   "outputs": [],
   "source": [
    "# imports\n",
    "import numpy as np \n",
    "from sentence_transformers import SentenceTransformer\n",
    "import chromadb\n",
    "import uuid\n",
    "from typing import List, Dict, Any\n"
   ]
  },
  {
   "cell_type": "code",
   "execution_count": 7,
   "id": "26a3210f",
   "metadata": {},
   "outputs": [],
   "source": [
    "# create embeddings \n",
    "# class structure\n",
    "class EmbeddingManager:\n",
    "    def __init__(self, model_name: str= \"all-MiniLM-L6-v2\"):\n",
    "        self.model_name = model_name\n",
    "        self.model = None\n",
    "        self._load_model()\n",
    "\n",
    "    def _load_model(self):\n",
    "        try:\n",
    "            print(f\"loading embedding model: {self.model_name}\")\n",
    "            self.model = SentenceTransformer(self.model_name)\n",
    "            print(f\"Model loaded successfully, dimension of embeddings: {self.model.get_sentence_embedding_dimension()}\")\n",
    "        except Exception as e:\n",
    "            print(f\"Error loading the model {self.model_name}: {e}\");\n",
    "            raise\n",
    "    def generate_embeddings(self, texts: List[str])-> np.ndarray:\n",
    "        if not self.model:\n",
    "            raise ValueError(\"Model not loaded yet\")\n",
    "        embeddings = self.model.encode(texts, show_progress_bar= True)\n",
    "        return embeddings"
   ]
  },
  {
   "cell_type": "code",
   "execution_count": 8,
   "id": "e0bace48",
   "metadata": {},
   "outputs": [],
   "source": [
    "# Vector Store\n",
    "class VectorStore:\n",
    "    # init method ( self , name of the collection in which the vectors are to be stored, persistent location of directory where the vector store is intended to be stored)\n",
    "    def __init__(self, collection_name: str = 'vectors-store' , persistent_directory: str = '../vector_store'):\n",
    "        self.collection_name = collection_name\n",
    "        self.persistent_directory = persistent_directory\n",
    "        self.client = None\n",
    "        self.collection = None\n",
    "        self._initialize_store()\n",
    "\n",
    "    def _initialize_store(self):\n",
    "        try:\n",
    "            os.makedirs(self.persistent_directory, exist_ok=True)\n",
    "            self.client = chromadb.PersistentClient(path = self.persistent_directory)\n",
    "\n",
    "            # get or create collection\n",
    "            self.collection = self.client.get_or_create_collection(\n",
    "                name = self.collection_name,\n",
    "                metadata={\n",
    "                    \"description\": \"PDF document embeddings for RAG\",\n",
    "                    \"hnsw:space\": \"cosine\"\n",
    "                }\n",
    "\n",
    "            )\n",
    "            print(\"Vector store initialized\")\n",
    "            print(f\"existing documents in collection: {self.collection.count()}\")\n",
    "\n",
    "        except Exception as e:\n",
    "            print(f\"Error initializing the vector store: {e}\")\n",
    "            raise\n",
    "\n",
    "    def add_documents(self, documents: List[any], embeddings: np.ndarray):\n",
    "        # data for chroma db \n",
    "        ids = []\n",
    "        metadatas = []\n",
    "        document_text = []\n",
    "        embedding_list = []\n",
    "        for i, (doc, embedding) in enumerate(zip(documents, embeddings)):\n",
    "            doc_id = f\"doc_{uuid.uuid4().hex[:8]}_{i}\"\n",
    "            ids.append(doc_id)\n",
    "\n",
    "            metadata = dict(doc.metadata)\n",
    "            metadata['doc_index'] = i \n",
    "            metadata[\"content_length\"] = len(doc.page_content)\n",
    "\n",
    "            metadatas.append(metadata)\n",
    "\n",
    "            document_text.append(doc.page_content)\n",
    "            embedding_list.append(embedding.tolist())\n",
    "            \n",
    "        # add to collection \n",
    "        try:\n",
    "            self.collection.add(\n",
    "                ids= ids,\n",
    "                embeddings= embedding_list,\n",
    "                metadatas= metadatas,\n",
    "                documents= document_text\n",
    "            )\n",
    "            print(\"documents added\")\n",
    "        except Exception as e:\n",
    "            print(\"There some error \",e )\n",
    "            raise\n",
    "\n"
   ]
  },
  {
   "cell_type": "code",
   "execution_count": 9,
   "id": "2364ad92",
   "metadata": {},
   "outputs": [
    {
     "name": "stdout",
     "output_type": "stream",
     "text": [
      "loading embedding model: all-MiniLM-L6-v2\n",
      "Model loaded successfully, dimension of embeddings: 384\n"
     ]
    },
    {
     "name": "stderr",
     "output_type": "stream",
     "text": [
      "Batches: 100%|██████████| 2/2 [00:04<00:00,  2.07s/it]\n"
     ]
    }
   ],
   "source": [
    "# get text from chunks \n",
    "texts = [ doc.page_content for doc in chunks]\n",
    "embedding_manager = EmbeddingManager()\n",
    "generated_embeddings = embedding_manager.generate_embeddings(texts)\n",
    "\n"
   ]
  },
  {
   "cell_type": "code",
   "execution_count": 10,
   "id": "fa1c85ed",
   "metadata": {},
   "outputs": [
    {
     "name": "stdout",
     "output_type": "stream",
     "text": [
      "Vector store initialized\n",
      "existing documents in collection: 0\n"
     ]
    }
   ],
   "source": [
    "\n",
    "# store in the vector database\n",
    "\n",
    "vector_store = VectorStore()\n"
   ]
  },
  {
   "cell_type": "code",
   "execution_count": 11,
   "id": "f1c3afa0",
   "metadata": {},
   "outputs": [
    {
     "name": "stdout",
     "output_type": "stream",
     "text": [
      "documents added\n"
     ]
    }
   ],
   "source": [
    "vector_store.add_documents(chunks, generated_embeddings)"
   ]
  },
  {
   "cell_type": "code",
   "execution_count": null,
   "id": "42c70a1b",
   "metadata": {},
   "outputs": [],
   "source": [
    "# rag retrieval pipeline\n",
    "class RAGretriever:\n",
    "    def __init__(self, vector_store: VectorStore, embedding_manager: EmbeddingManager):\n",
    "        self.vector_store = vector_store\n",
    "        self.embedding_manager = embedding_manager\n",
    "\n",
    "    def retrivel(self, query: str, top_k: int = 5, score_threshold: float= 0.0) -> List[Dict[str, Any]]:\n",
    "        query_embedding = self.embedding_manager.generate_embeddings([query])[0]\n",
    "\n",
    "        try:\n",
    "            results = self.vector_store.collection.query(\n",
    "                query_embeddings= [query_embedding.tolist()],\n",
    "                n_results= top_k\n",
    "            )\n",
    "            retrieved_documents = []\n",
    "            if results['documents'] and results['documents'][0]:\n",
    "                documents = results['documents'][0]\n",
    "                metadatas = results['metadatas'][0]\n",
    "                distances = results['distances'][0]\n",
    "                ids= results['ids'][0]\n",
    "\n",
    "                for i, (doc_id, document, metadata, distance) in enumerate(zip(ids, documents, metadatas, distances)):\n",
    "                    # print(f\"i: {i} \\ndoc_id: {doc_id} \\nmetadata: {metadata} \\ndocument: {document}\\ndistance: {distance}\")\n",
    "                    print(distance)\n",
    "                    similarity_score = 1 - distance\n",
    "                    if similarity_score >= score_threshold:\n",
    "                        retrieved_documents.append({\n",
    "                            'id': doc_id,\n",
    "                            'content': document,\n",
    "                            'metadata': metadata,\n",
    "                            'similarity_score': similarity_score,\n",
    "                            'distance': distance,\n",
    "                            'rank':i+1\n",
    "                        })\n",
    "                for i in retrieved_documents:\n",
    "                    print(i['content'])\n",
    "                print(f\"retrieved {len(retrieved_documents)} results\")\n",
    "            else:\n",
    "                print(\"No documents found\")\n",
    "\n",
    "            return retrieved_documents;\n",
    "        except Exception as e: \n",
    "            print(f\"Erorr: {e}\")\n",
    "            return []\n",
    "\n"
   ]
  },
  {
   "cell_type": "code",
   "execution_count": 24,
   "id": "d58fb82e",
   "metadata": {},
   "outputs": [
    {
     "name": "stderr",
     "output_type": "stream",
     "text": [
      "Batches: 100%|██████████| 1/1 [00:00<00:00, 36.72it/s]"
     ]
    },
    {
     "name": "stdout",
     "output_type": "stream",
     "text": [
      "0.7467197179794312\n",
      "0.7480974793434143\n",
      "0.7575162649154663\n",
      "Welcome to Bajaj Allianz Family\n",
      " BARDOLI(VSO)-Shop Nos.25 To 28, Mezzanine Floor, , Megh Mayur Plazaratan\n",
      "Baug, , Surat Dumas Roadsurat, Surat, Gujarat, INDIA, 395007, 9999999999\n",
      "Policy issuing office and correspondence address for communication by\n",
      "policyholder for claim, service request, notice, summons, etc.:\n",
      "   Insured Name Pragneshkumar Rajubhai Nayka  Policy Number  12-1805-0007923327-00\n",
      "Name: Pragneshkumar Rajubhai Nayka\n",
      "Address:\n",
      "Line 1: Parsigali Faliyu , Boriya T Mahuva D Surat\n",
      "City: Surat, State: Gujarat\n",
      "Postcode: 395620\n",
      "Customer ID: PI35470101\n",
      "Line 2:   ,\n",
      "Dear Pragneshkumar Rajubhai Nayka,\n",
      "We thank you for choosing Bajaj Allianz for your Insurance needs. We are one of India's leading general insurance companies with iAAA rating\n",
      "from ICRA for the last ten consecutive years indicating the company's high claims paying ability and fundamentally strong position in the industry.\n",
      "Customer ID242509I001775263Invoice Number PI35641605\n",
      "17/09/2025Invoice Date Policy No. 12-1805-0008046643-00\n",
      "Supplier/ Details of InsurerRecipient/ Details of Insured\n",
      "UnregisteredGSTIN GSTIN 24AABCB5730G1Z3\n",
      "NA PANPAN AABCB5730G\n",
      "Bajaj Allianz General Insurance Company Ltd.NameNASIMBHAI LIYAKAT SHEKHName (Proposer)\n",
      "Address-1 Shop Nos.25 To 28, Mezzanine Floor,B 37 , Aksha Nagar , M G Road , Bardoli T Bardoli\n",
      "D Surat Address-1\n",
      " Address-2Address-2 Megh Mayur Plazaratan Baug,\n",
      "(Customer Copy)\n",
      "TAX INVOICE\n",
      "Address-3 Surat Dumas RoadsuratAddress-3\n",
      "394601 395007Pin Code Pin Code\n",
      "SURATSURAT CityCity\n",
      "GUJARATStateState GUJARAT\n",
      "Place of\n",
      "SupplyNON HNIClient Category 24 - GUJARAT\n",
      "Premium\n",
      " Amount(INR)  Description   Amount(INR)  Description\n",
      "  Net Premium 3526\n",
      " 0IGST(18%)\n",
      "  Gross Premium 4160\n",
      " 0IGST(12%)\n",
      "Receipt Number: SYS-25-000008560751, SYS-25-\n",
      "000008560751 Date: 17/09/2025, 17/09/2025 Premium Payer ID:\n",
      "22284903 Float: NA; ** If Premium paid through Cheque, the\n",
      "Customer ID242509I001745480Invoice Number PI35470101\n",
      "01/09/2025Invoice Date Policy No. 12-1805-0007923327-00\n",
      "Supplier/ Details of InsurerRecipient/ Details of Insured\n",
      "UnregisteredGSTIN GSTIN 24AABCB5730G1Z3\n",
      "NA PANPAN AABCB5730G\n",
      "Bajaj Allianz General Insurance Company Ltd.NamePRAGNESHKUMAR RAJUBHAI NAYKAName (Proposer)\n",
      "Address-1 Shop Nos.25 To 28, Mezzanine Floor,Parsigali Faliyu , Boriya T Mahuva D Surat Address-1\n",
      " Address-2Address-2 Megh Mayur Plazaratan Baug,\n",
      "(Customer Copy)\n",
      "TAX INVOICE\n",
      "Address-3 Surat Dumas RoadsuratAddress-3\n",
      "395620 395007Pin Code Pin Code\n",
      "SURATSURAT CityCity\n",
      "GUJARATStateState GUJARAT\n",
      "Place of\n",
      "SupplyNON HNIClient Category 24 - GUJARAT\n",
      "Premium\n",
      " Amount(INR)  Description   Amount(INR)  Description\n",
      "  Net Premium 3857\n",
      " 0IGST(18%)\n",
      "  Gross Premium 4551\n",
      " 0IGST(12%)\n",
      "Receipt Number: SYS-25-000007621545 Date: 01/09/2025\n",
      "Premium Payer ID: 22284903 Float: NA; ** If Premium paid\n",
      "through Cheque, the Policy is void ab-initio in case of dishonour\n",
      "of Cheque  347CGST(9%)\n",
      "retrieved 3 results\n"
     ]
    },
    {
     "name": "stderr",
     "output_type": "stream",
     "text": [
      "\n"
     ]
    }
   ],
   "source": [
    "rag_retriever = RAGretriever(vector_store, embedding_manager)\n",
    "result = rag_retriever.retrivel(\"chirag parmar\", 3, 0.5 )"
   ]
  },
  {
   "cell_type": "code",
   "execution_count": null,
   "id": "2454fc5f",
   "metadata": {},
   "outputs": [],
   "source": []
  },
  {
   "cell_type": "code",
   "execution_count": null,
   "id": "e5c4a99e",
   "metadata": {},
   "outputs": [],
   "source": []
  },
  {
   "cell_type": "code",
   "execution_count": null,
   "id": "3f386879",
   "metadata": {},
   "outputs": [],
   "source": []
  }
 ],
 "metadata": {
  "kernelspec": {
   "display_name": "rag",
   "language": "python",
   "name": "python3"
  },
  "language_info": {
   "codemirror_mode": {
    "name": "ipython",
    "version": 3
   },
   "file_extension": ".py",
   "mimetype": "text/x-python",
   "name": "python",
   "nbconvert_exporter": "python",
   "pygments_lexer": "ipython3",
   "version": "3.12.10"
  }
 },
 "nbformat": 4,
 "nbformat_minor": 5
}
