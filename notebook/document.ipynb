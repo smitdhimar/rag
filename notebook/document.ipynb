{
 "cells": [
  {
   "cell_type": "markdown",
   "id": "d0aec147",
   "metadata": {},
   "source": [
    "Data Ingestion"
   ]
  },
  {
   "cell_type": "code",
   "execution_count": 4,
   "id": "d4876b19",
   "metadata": {},
   "outputs": [],
   "source": [
    "from langchain_core.documents import Document"
   ]
  },
  {
   "cell_type": "code",
   "execution_count": null,
   "id": "142b1c81",
   "metadata": {},
   "outputs": [
    {
     "name": "stdout",
     "output_type": "stream",
     "text": [
      "page_content='This is the main text content i am using to create RAG' metadata={'source': 'example.txt', 'pages': 1, 'author': 'Smit', 'date_created': '01-01-2026'}\n"
     ]
    }
   ],
   "source": [
    "doc = Document(\n",
    "    page_content = \"This is the main text content i am using to create RAG\",\n",
    "    metadata = {\n",
    "        \"source\": \"example.txt\",\n",
    "        \"pages\": 1,\n",
    "        \"author\": \"Smit\",\n",
    "        \"date_created\":\"01-01-2026\"\n",
    "    }\n",
    ")\n",
    "print(doc)"
   ]
  },
  {
   "cell_type": "code",
   "execution_count": 8,
   "id": "0023e4e5",
   "metadata": {},
   "outputs": [],
   "source": [
    "import os\n",
    "os.makedirs(\"../data/text_files\")"
   ]
  },
  {
   "cell_type": "code",
   "execution_count": 13,
   "id": "f6595864",
   "metadata": {},
   "outputs": [],
   "source": [
    "sample_texts = {\n",
    "    \"../data/text_files/m1_details.txt\" : \"\"\"\n",
    "    Apple M1 is a series of ARM-based system-on-a-chip (SoC) designed by Apple Inc., launched 2020 to 2022. It is part of the Apple silicon series, as a central processing unit (CPU) and graphics processing unit (GPU) for its Mac desktops and notebooks, and the iPad Pro and iPad Air tablets.[4] The M1 chip initiated Apple's third change to the instruction set architecture used by Macintosh computers, switching from Intel to Apple silicon fourteen years after they were switched from PowerPC to Intel, and twenty-six years after the transition from the original Motorola 68000 series to PowerPC. At the time of its introduction in 2020, Apple said that the M1 had \"the world's fastest CPU core in low power silicon\" and the world's best CPU performance per watt.[4][5] Its successor, Apple M2, was announced on June 6, 2022, at Worldwide Developers Conference (WWDC).\n",
    "\n",
    "The original M1 chip was introduced in November 2020, and was followed by the professional-focused M1 Pro and M1 Max chips in October 2021. The M1 Max is a higher-powered version of the M1 Pro, with more GPU cores and memory bandwidth, a larger die size, and a large used interconnect. Apple introduced the M1 Ultra in 2022, a desktop workstation chip containing two interconnected M1 Max units. These chips differ largely in size and the number of functional units: for example, while the original M1 has about 16 billion transistors, the M1 Ultra has 114 billion.\n",
    "\n",
    "Apple's macOS and iPadOS operating systems both run on the M1. Initial support for the M1 SoC in the Linux kernel was released in version 5.13 on June 27, 2021.[6]\n",
    "\n",
    "The initial versions of the M1 chips contain an architectural defect that permits sandboxed applications to exchange data, violating the security model, an issue that has been described as \"mostly harmless\"\n",
    "    \"\"\",\n",
    "    \"../data/text_files/i7_details.txt\":\"\"\"Intel Core i7 is a name that the company Intel uses for the computer processors it makes for high-end desktop and laptop computers and tablets. Intel uses this name for the fastest processors that they think will be used to build the most powerful consumer devices. The 'Core' part of the name, which refers to the processor's core, has been used by Intel since 2006, but the first Core i7 processor was released 3 years later in 2009.\n",
    "\n",
    "There are different types of Core i7 processor. The name does not name a type. Instead, it is the name for all of the fast processors that Intel thinks should be sold to consumers. Intel uses two other \"Core i-\" names for its processors for consumers: \"Core i5\" and \"Core i3.\" The \"Core i5\" processors are mostly as fast as i7 processors, but lack the Hyper Threading technology which allows each core to be used twice simultaneously giving the impression of doubling the cores.\n",
    "\n",
    "Intel uses a different name, Xeon, for processors that Intel makes for \"server\" computers for businesses (and some rare laptops). Some of the \"Core i7\" processors are almost the same as some of the \"Xeon\" processors, but each of the Xeon processors is a little bit different than the \"Core i7\" processor, because a \"server\" computer is not the same as a consumer computer. Intel also makes other \"Xeon\" processors that are not the same as any \"Core i7\" processor. Unlike the Core i7, Xeon processors support ECC (error correcting) memory, and multiple CPUs on the same motherboard. However, Alder Lake processors have officially supported ECC memory if used with a W680 motherboard and ECC memory.\"\"\"\n",
    "}"
   ]
  },
  {
   "cell_type": "code",
   "execution_count": 14,
   "id": "6c6386c4",
   "metadata": {},
   "outputs": [
    {
     "name": "stdout",
     "output_type": "stream",
     "text": [
      "sample file created\n"
     ]
    }
   ],
   "source": [
    "for filepath, content in sample_texts.items():\n",
    "    with open(filepath, 'w', encoding='utf-8') as f:\n",
    "        f.write(content)\n",
    "\n",
    "print(\"sample file created\")"
   ]
  },
  {
   "cell_type": "code",
   "execution_count": 20,
   "id": "187b2c8e",
   "metadata": {},
   "outputs": [
    {
     "name": "stdout",
     "output_type": "stream",
     "text": [
      "[Document(metadata={'source': '../data/text_files/m1_details.txt'}, page_content='\\n    Apple M1 is a series of ARM-based system-on-a-chip (SoC) designed by Apple Inc., launched 2020 to 2022. It is part of the Apple silicon series, as a central processing unit (CPU) and graphics processing unit (GPU) for its Mac desktops and notebooks, and the iPad Pro and iPad Air tablets.[4] The M1 chip initiated Apple\\'s third change to the instruction set architecture used by Macintosh computers, switching from Intel to Apple silicon fourteen years after they were switched from PowerPC to Intel, and twenty-six years after the transition from the original Motorola 68000 series to PowerPC. At the time of its introduction in 2020, Apple said that the M1 had \"the world\\'s fastest CPU core in low power silicon\" and the world\\'s best CPU performance per watt.[4][5] Its successor, Apple M2, was announced on June 6, 2022, at Worldwide Developers Conference (WWDC).\\n\\nThe original M1 chip was introduced in November 2020, and was followed by the professional-focused M1 Pro and M1 Max chips in October 2021. The M1 Max is a higher-powered version of the M1 Pro, with more GPU cores and memory bandwidth, a larger die size, and a large used interconnect. Apple introduced the M1 Ultra in 2022, a desktop workstation chip containing two interconnected M1 Max units. These chips differ largely in size and the number of functional units: for example, while the original M1 has about 16 billion transistors, the M1 Ultra has 114 billion.\\n\\nApple\\'s macOS and iPadOS operating systems both run on the M1. Initial support for the M1 SoC in the Linux kernel was released in version 5.13 on June 27, 2021.[6]\\n\\nThe initial versions of the M1 chips contain an architectural defect that permits sandboxed applications to exchange data, violating the security model, an issue that has been described as \"mostly harmless\"\\n    ')]\n"
     ]
    }
   ],
   "source": [
    "## text loader from lanchain\n",
    "from langchain.document_loaders import TextLoader\n",
    "\n",
    "from langchain_community.document_loaders import TextLoader\n",
    "\n",
    "loader=TextLoader(\"../data/text_files/m1_details.txt\", encoding=\"utf-8\")\n",
    "document= loader.load()\n",
    "print(document)"
   ]
  },
  {
   "cell_type": "code",
   "execution_count": 38,
   "id": "91fea41f",
   "metadata": {},
   "outputs": [
    {
     "name": "stdout",
     "output_type": "stream",
     "text": [
      "[Document(metadata={'source': '..\\\\data\\\\text_files\\\\i7_details.txt'}, page_content='Intel Core i7 is a name that the company Intel uses for the computer processors it makes for high-end desktop and laptop computers and tablets. Intel uses this name for the fastest processors that they think will be used to build the most powerful consumer devices. The \\'Core\\' part of the name, which refers to the processor\\'s core, has been used by Intel since 2006, but the first Core i7 processor was released 3 years later in 2009.\\n\\nThere are different types of Core i7 processor. The name does not name a type. Instead, it is the name for all of the fast processors that Intel thinks should be sold to consumers. Intel uses two other \"Core i-\" names for its processors for consumers: \"Core i5\" and \"Core i3.\" The \"Core i5\" processors are mostly as fast as i7 processors, but lack the Hyper Threading technology which allows each core to be used twice simultaneously giving the impression of doubling the cores.\\n\\nIntel uses a different name, Xeon, for processors that Intel makes for \"server\" computers for businesses (and some rare laptops). Some of the \"Core i7\" processors are almost the same as some of the \"Xeon\" processors, but each of the Xeon processors is a little bit different than the \"Core i7\" processor, because a \"server\" computer is not the same as a consumer computer. Intel also makes other \"Xeon\" processors that are not the same as any \"Core i7\" processor. Unlike the Core i7, Xeon processors support ECC (error correcting) memory, and multiple CPUs on the same motherboard. However, Alder Lake processors have officially supported ECC memory if used with a W680 motherboard and ECC memory.'), Document(metadata={'source': '..\\\\data\\\\text_files\\\\m1_details.txt'}, page_content='\\n    Apple M1 is a series of ARM-based system-on-a-chip (SoC) designed by Apple Inc., launched 2020 to 2022. It is part of the Apple silicon series, as a central processing unit (CPU) and graphics processing unit (GPU) for its Mac desktops and notebooks, and the iPad Pro and iPad Air tablets.[4] The M1 chip initiated Apple\\'s third change to the instruction set architecture used by Macintosh computers, switching from Intel to Apple silicon fourteen years after they were switched from PowerPC to Intel, and twenty-six years after the transition from the original Motorola 68000 series to PowerPC. At the time of its introduction in 2020, Apple said that the M1 had \"the world\\'s fastest CPU core in low power silicon\" and the world\\'s best CPU performance per watt.[4][5] Its successor, Apple M2, was announced on June 6, 2022, at Worldwide Developers Conference (WWDC).\\n\\nThe original M1 chip was introduced in November 2020, and was followed by the professional-focused M1 Pro and M1 Max chips in October 2021. The M1 Max is a higher-powered version of the M1 Pro, with more GPU cores and memory bandwidth, a larger die size, and a large used interconnect. Apple introduced the M1 Ultra in 2022, a desktop workstation chip containing two interconnected M1 Max units. These chips differ largely in size and the number of functional units: for example, while the original M1 has about 16 billion transistors, the M1 Ultra has 114 billion.\\n\\nApple\\'s macOS and iPadOS operating systems both run on the M1. Initial support for the M1 SoC in the Linux kernel was released in version 5.13 on June 27, 2021.[6]\\n\\nThe initial versions of the M1 chips contain an architectural defect that permits sandboxed applications to exchange data, violating the security model, an issue that has been described as \"mostly harmless\"\\n    ')]\n"
     ]
    }
   ],
   "source": [
    "## directory load \n",
    "from langchain_community.document_loaders import DirectoryLoader\n",
    "\n",
    "dir_loader = DirectoryLoader(\n",
    "    \"../data/text_files\",\n",
    "    glob = \"**/*.txt\",\n",
    "    loader_cls = TextLoader,\n",
    "    loader_kwargs = {'encoding': 'utf-8'},\n",
    "    show_progress = False\n",
    ")\n",
    "document = dir_loader.load()\n",
    "print(document)"
   ]
  },
  {
   "cell_type": "markdown",
   "id": "bd6cc418",
   "metadata": {},
   "source": [
    "Load pdfs"
   ]
  },
  {
   "cell_type": "code",
   "execution_count": 41,
   "id": "9debc6f1",
   "metadata": {},
   "outputs": [
    {
     "name": "stdout",
     "output_type": "stream",
     "text": [
      "[Document(metadata={'producer': 'Skia/PDF m143 Google Docs Renderer', 'creator': '', 'creationdate': '', 'source': '..\\\\data\\\\pdf\\\\professional_reference_letter.pdf', 'file_path': '..\\\\data\\\\pdf\\\\professional_reference_letter.pdf', 'total_pages': 1, 'format': 'PDF 1.4', 'title': 'professional_reference_letter', 'author': '', 'subject': '', 'keywords': '', 'moddate': '', 'trapped': '', 'modDate': '', 'creationDate': '', 'page': 0}, page_content='Professional Reference Letter \\n \\nTo Whom It May Concern, \\nI am writing to provide a professional reference for Smit Dhimar, with whom I had the \\nopportunity to work closely on a project at devx commerce. During our time working \\ntogether, Smit contributed to the Personalizer feature of the Cello project, where we \\nprimarily worked with technologies such as AWS, Terraform, and React. \\nSmit showed a strong understanding of technical concepts and was quick to grasp the \\nworkflow of the project. He was proactive in learning new tools, asked the right questions, \\nand consistently delivered his tasks responsibly. His enthusiasm for problem-solving and his \\nwillingness to collaborate effectively made him a valuable part of the team. \\nI am confident that Smit will continue to grow and excel in his future roles. Please feel free to \\ncontact me if you require any further details about our work together. \\nBest regards, \\n \\n\\u200b\\nChirag Parmar\\u200b\\nSDE-2, devx commerce\\u200b\\nEmail: chirag@devxconsultancy.com\\u200b\\nPhone: +918153843001')]\n"
     ]
    }
   ],
   "source": [
    "from langchain_community.document_loaders import PyPDFLoader, PyMuPDFLoader\n",
    "dir_loader = DirectoryLoader(\n",
    "     \"../data/pdf\",\n",
    "    glob = \"**/*.pdf\",\n",
    "    loader_cls = PyMuPDFLoader,\n",
    "    show_progress = False\n",
    ")\n",
    "pdf_documents = dir_loader.load()\n",
    "print(pdf_documents)"
   ]
  }
 ],
 "metadata": {
  "kernelspec": {
   "display_name": "rag",
   "language": "python",
   "name": "python3"
  },
  "language_info": {
   "codemirror_mode": {
    "name": "ipython",
    "version": 3
   },
   "file_extension": ".py",
   "mimetype": "text/x-python",
   "name": "python",
   "nbconvert_exporter": "python",
   "pygments_lexer": "ipython3",
   "version": "3.12.10"
  }
 },
 "nbformat": 4,
 "nbformat_minor": 5
}
